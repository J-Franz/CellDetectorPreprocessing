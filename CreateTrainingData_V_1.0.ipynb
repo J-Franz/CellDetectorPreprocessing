{
 "cells": [
  {
   "cell_type": "code",
   "execution_count": 1,
   "metadata": {},
   "outputs": [],
   "source": [
    "import numpy as np\n",
    "import matplotlib.pyplot as plt\n",
    "import omero\n",
    "from omero.gateway import BlitzGateway\n",
    "import time\n",
    "from skimage import filters\n",
    "import os\n",
    "\n",
    "from tqdm import tqdm\n",
    "from ipywidgets import Password, Text, ToggleButton, Checkbox, IntSlider\n",
    "from multi_label_pigeon import annotate\n",
    "from skimage.exposure import rescale_intensity\n"
   ]
  },
  {
   "cell_type": "markdown",
   "metadata": {},
   "source": [
    "# Set up connection to OMERO"
   ]
  },
  {
   "cell_type": "code",
   "execution_count": 2,
   "metadata": {},
   "outputs": [],
   "source": [
    "global user\n",
    "global pw\n",
    "user = Text(description='User:', placeholder='Your Omero Login')\n",
    "\n",
    "pw = Password(description='Password:', placeholder='Enter password for login')"
   ]
  },
  {
   "cell_type": "code",
   "execution_count": 3,
   "metadata": {
    "scrolled": true
   },
   "outputs": [
    {
     "data": {
      "application/vnd.jupyter.widget-view+json": {
       "model_id": "d38056d6539f410e82c61e15331b11f9",
       "version_major": 2,
       "version_minor": 0
      },
      "text/plain": [
       "Text(value='', description='User:', placeholder='Your Omero Login')"
      ]
     },
     "metadata": {},
     "output_type": "display_data"
    }
   ],
   "source": [
    "user"
   ]
  },
  {
   "cell_type": "code",
   "execution_count": 4,
   "metadata": {},
   "outputs": [
    {
     "data": {
      "application/vnd.jupyter.widget-view+json": {
       "model_id": "098601173551406ba345dec95fd82114",
       "version_major": 2,
       "version_minor": 0
      },
      "text/plain": [
       "Password(description='Password:', placeholder='Enter password for login')"
      ]
     },
     "metadata": {},
     "output_type": "display_data"
    }
   ],
   "source": [
    "pw"
   ]
  },
  {
   "cell_type": "markdown",
   "metadata": {},
   "source": [
    "# Define Functions"
   ]
  },
  {
   "cell_type": "code",
   "execution_count": 5,
   "metadata": {},
   "outputs": [],
   "source": [
    "def refresh_omero_session(conn):\n",
    "    if conn==None:\n",
    "        USERNAME = user.value\n",
    "        PASSWORD = pw.value\n",
    "        HOST = \"134.76.18.202\"\n",
    "        PORT=   4064\n",
    "\n",
    "        c = omero.client(host=HOST, port=4064)\n",
    "        session = c.createSession(USERNAME,PASSWORD)\n",
    "\n",
    "        print(\"Connected.\")\n",
    "        conn = BlitzGateway(USERNAME, PASSWORD,host=HOST, port=PORT)\n",
    "    else:\n",
    "        #if conn.isConnected():\n",
    "            #conn.keep_alive()\n",
    "        \n",
    "        USERNAME = user.value\n",
    "        PASSWORD = pw.value\n",
    "        HOST = \"134.76.18.202\"\n",
    "        PORT=   4064\n",
    "\n",
    "        c = omero.client(host=HOST, port=4064)\n",
    "        session = c.createSession(USERNAME,PASSWORD)\n",
    "\n",
    "        print(\"Connected.\")\n",
    "        conn = BlitzGateway(USERNAME, PASSWORD,host=HOST, port=PORT)\n",
    "    conn.connect()\n",
    "    print(conn.isConnected())\n",
    "    return conn\n"
   ]
  },
  {
   "cell_type": "code",
   "execution_count": 6,
   "metadata": {},
   "outputs": [],
   "source": [
    "def load_data(run_):\n",
    "    width=101\n",
    "    height=101\n",
    "    half_width=int(width/2.)\n",
    "    half_height=int(height/2.)\n",
    "    c_max = 4\n",
    "    list_batch_images= []\n",
    "    list_xy_batch_images =  []\n",
    "    for id_n, id_ in tqdm(enumerate(range(min(batch_size,len(precondition)-run_*batch_size)))):\n",
    "        image = np.zeros((width,height,c_max))\n",
    "        image_id = precondition[id_+run_*batch_size]\n",
    "        for c in range(0,c_max):\n",
    "            image[:,:,c]=pixels.getTile(0,theC=c,theT=0,tile=[x[image_id]-half_width,y[image_id]-half_height,width,height])\n",
    "        list_batch_images.append(image)\n",
    "        list_xy_batch_images.append((id_n,x[image_id],y[image_id]))\n",
    "    return list_batch_images, list_xy_batch_images"
   ]
  },
  {
   "cell_type": "code",
   "execution_count": 7,
   "metadata": {},
   "outputs": [],
   "source": [
    "def show_cell(image):\n",
    "    %matplotlib notebook\n",
    "    log_dapi = np.log(image[:,:,0])\n",
    "    log_dapi[np.isinf(-log_dapi)] = 10**(-14) \n",
    "    dapi = rescale_intensity(log_dapi,out_range=(0, 1.))\n",
    "    ## threshold for display\n",
    "    display_threshold_channel_1 = 2*threshold\n",
    "    display_threshold_channel_3 = 100\n",
    "    fluorescence = rescale_intensity(image[:, :, 1], in_range=(0,display_threshold_channel_1),out_range=(0, 1))\n",
    "    fluorescence_3 = rescale_intensity(image[:, :, 3], in_range=(0,display_threshold_channel_3), out_range=(0, 1))\n",
    "    dapi_rgb = np.dstack((np.zeros_like(dapi), np.zeros_like(dapi), dapi))\n",
    "    fluorescence_rgb = np.dstack((np.zeros_like(dapi), fluorescence, np.zeros_like(dapi)))\n",
    "    fluorescence_2_rgb = np.dstack((fluorescence_3, np.zeros_like(dapi), fluorescence_3))\n",
    "    dapi_fluorescence_rgb = np.dstack((np.zeros_like(dapi), fluorescence, dapi))\n",
    "    fig,(ax) = plt.subplots(2,2)\n",
    "    ax[0][0].imshow(dapi_rgb)#, alpha = 0.5)\n",
    "    ax[0][0].plot(50,50,'wx')\n",
    "    ax[0][1].imshow(fluorescence_rgb)\n",
    "    #,clim=[0,2000])#,alpha = 0.5)\n",
    "    ax[0][1].plot(50,50,'wx')\n",
    "    ax[1][0].imshow(dapi_fluorescence_rgb)\n",
    "    ax[1][1].imshow(fluorescence_2_rgb)\n",
    "    "
   ]
  },
  {
   "cell_type": "markdown",
   "metadata": {},
   "source": [
    "# Set up connection to Omero and load pointer to the image"
   ]
  },
  {
   "cell_type": "code",
   "execution_count": 9,
   "metadata": {},
   "outputs": [
    {
     "name": "stdout",
     "output_type": "stream",
     "text": [
      "Connected.\n",
      "True\n",
      "Switched Group to Group of image:  203\n"
     ]
    },
    {
     "data": {
      "text/plain": [
       "<_PixelsWrapper id=3062>"
      ]
     },
     "execution_count": 9,
     "metadata": {},
     "output_type": "execute_result"
    }
   ],
   "source": [
    "try: conn\n",
    "except NameError: conn = None\n",
    "conn = refresh_omero_session(conn)\n",
    "\n",
    "## Image you want to analyse ##########\n",
    "imageId = 3062\n",
    "################################\n",
    "\n",
    "conn.SERVICE_OPTS.setOmeroGroup('-1')\n",
    "image = conn.getObject(\"Image\", imageId)\n",
    "group_id = image.getDetails().getGroup().getId()\n",
    "print(\"Switched Group to Group of image: \", group_id)\n",
    "conn.setGroupForSession(group_id)\n",
    "pixels = image.getPrimaryPixels()\n",
    "size_x = image.getSizeX()\n",
    "size_y = image.getSizeY()\n",
    "global input_range\n",
    "input_range= image.getPixelRange()\n",
    "pixels"
   ]
  },
  {
   "cell_type": "markdown",
   "metadata": {},
   "source": [
    "# Monte Carlo Sampling of staining intensity"
   ]
  },
  {
   "cell_type": "markdown",
   "metadata": {},
   "source": [
    "define fluorescence channel of interest. At the moment I did not test if it works with a channel different than 1\n",
    "\n"
   ]
  },
  {
   "cell_type": "code",
   "execution_count": 10,
   "metadata": {},
   "outputs": [],
   "source": [
    "channel_of_interest = 1"
   ]
  },
  {
   "cell_type": "code",
   "execution_count": 11,
   "metadata": {},
   "outputs": [],
   "source": [
    "size_crop = 100\n",
    "n_of_monte_carlo_image = 5\n",
    "np.random.seed(10)\n",
    "rand_x = np.random.randint(size_crop,size_x-size_crop,n_of_monte_carlo_image)\n",
    "rand_y = np.random.randint(size_crop,size_y-size_crop,n_of_monte_carlo_image)"
   ]
  },
  {
   "cell_type": "code",
   "execution_count": 12,
   "metadata": {},
   "outputs": [
    {
     "name": "stderr",
     "output_type": "stream",
     "text": [
      "100%|██████████| 5/5 [00:01<00:00,  4.38it/s]\n"
     ]
    }
   ],
   "source": [
    "pixels_list = []\n",
    "for id_ in tqdm(np.arange(len(rand_x))):\n",
    "    pixels_list.append(pixels.getTile(0,theC=channel_of_interest,theT=0,tile=[rand_x[id_],rand_y[id_],size_crop,size_crop]))\n",
    "    \n",
    "pixels_list = np.squeeze(np.array(pixels_list))"
   ]
  },
  {
   "cell_type": "code",
   "execution_count": 13,
   "metadata": {},
   "outputs": [],
   "source": [
    "global th_multi_otsu\n",
    "th_multi_otsu= filters.threshold_multiotsu(pixels_list.flatten())"
   ]
  },
  {
   "cell_type": "code",
   "execution_count": 14,
   "metadata": {},
   "outputs": [
    {
     "name": "stdout",
     "output_type": "stream",
     "text": [
      "The calculated otsu multi threshold is: [342 487]\n"
     ]
    },
    {
     "data": {
      "image/png": "[encoded data removed]",
      "text/plain": [
       "<Figure size 432x288 with 1 Axes>"
      ]
     },
     "metadata": {
      "needs_background": "light"
     },
     "output_type": "display_data"
    }
   ],
   "source": [
    "binspace = np.linspace(0,10000,1000)\n",
    "plt.figure()\n",
    "plt.hist(pixels_list.flatten(),cumulative=True,density=True,histtype='step', bins = binspace)\n",
    "plt.vlines(th_multi_otsu[1],0,1)\n",
    "plt.semilogx()\n",
    "plt.semilogy()\n",
    "plt.xlabel(\"Intensity of pixels\")\n",
    "plt.ylabel(\"CDF - density\")\n",
    "print(\"The calculated otsu multi threshold is: \" + str(th_multi_otsu))"
   ]
  },
  {
   "cell_type": "markdown",
   "metadata": {},
   "source": [
    "# Load centroids of nuclei"
   ]
  },
  {
   "cell_type": "code",
   "execution_count": 15,
   "metadata": {},
   "outputs": [
    {
     "name": "stderr",
     "output_type": "stream",
     "text": [
      "100%|██████████| 95827/95827 [00:00<00:00, 735981.46it/s]\n"
     ]
    }
   ],
   "source": [
    "cods = np.loadtxt(str(imageId)+\"_CellposeAllNucleiCentroids.txt\",delimiter=\",\")\n",
    "x = []\n",
    "y= []\n",
    "mean = []\n",
    "median = []\n",
    "var = []\n",
    "skew = []\n",
    "for p in tqdm(cods):\n",
    "    x.append(p[0])\n",
    "    y.append(p[1])\n",
    "    mean.append(p[2])\n",
    "    median.append(p[3])\n",
    "    var.append(p[4])\n",
    "    skew.append(p[5])\n",
    "x = np.array(x)\n",
    "y = np.array(y)\n",
    "mean = np.array(mean)\n",
    "median = np.array(median)\n",
    "var = np.array(var)\n",
    "skew = np.array(skew)"
   ]
  },
  {
   "cell_type": "code",
   "execution_count": 19,
   "metadata": {},
   "outputs": [],
   "source": [
    "width=101\n",
    "height=101\n",
    "half_width=int(width/2.)\n",
    "half_height=int(height/2.)\n",
    "c_max = 4"
   ]
  },
  {
   "cell_type": "markdown",
   "metadata": {},
   "source": [
    "# Select subset for training"
   ]
  },
  {
   "cell_type": "code",
   "execution_count": 46,
   "metadata": {},
   "outputs": [
    {
     "name": "stdout",
     "output_type": "stream",
     "text": [
      "Your precondition requires you to label:611 cells.\n",
      "Your threshold is: 1000\n"
     ]
    },
    {
     "name": "stderr",
     "output_type": "stream",
     "text": [
      "/share/Work/Coding/CondaEnv37/lib/python3.7/site-packages/ipykernel_launcher.py:9: RuntimeWarning: invalid value encountered in greater\n",
      "  if __name__ == '__main__':\n"
     ]
    }
   ],
   "source": [
    "# parameters you can vary\n",
    "batch_size=50\n",
    "\n",
    "## select subset for annotation\n",
    "# CHECK THRESHOLD ON Image\n",
    "# the threshold is:\n",
    "global threshold\n",
    "threshold = 1000 # int(2*np.nanmedian(mean))    #nanmean austauschen gegen nanmedian th_multi_otsu[1] # or number or ...\n",
    "condition = mean>threshold\n",
    "# create list of ids of subimages to load\n",
    "global precondition\n",
    "list_images=np.arange(len(x))\n",
    "precondition = list_images[condition]\n",
    "fname= str(imageId)+\"_training_results_Threshold_\"+str(threshold)+\".npy\" ### TODO Threshold File\n",
    "print(\"Your precondition requires you to label:\" + str(np.sum(condition)) + \" cells.\")\n",
    "print(\"Your threshold is: \" + str(threshold))"
   ]
  },
  {
   "cell_type": "code",
   "execution_count": 47,
   "metadata": {},
   "outputs": [
    {
     "name": "stdout",
     "output_type": "stream",
     "text": [
      "While this box is checked, you will try to load an existing dataset. \n",
      "       - uncheck if you process a dataset for the first time\n"
     ]
    },
    {
     "data": {
      "application/vnd.jupyter.widget-view+json": {
       "model_id": "dcd610515d0247f9834dac24a284430d",
       "version_major": 2,
       "version_minor": 0
      },
      "text/plain": [
       "Checkbox(value=True, description='Load existing dataset')"
      ]
     },
     "metadata": {},
     "output_type": "display_data"
    }
   ],
   "source": [
    "Load = Checkbox(value=True,description=\"Load existing dataset\")\n",
    "print(\"While this box is checked, you will try to load an existing dataset. \\n \\\n",
    "      - uncheck if you process a dataset for the first time\")\n",
    "Load"
   ]
  },
  {
   "cell_type": "code",
   "execution_count": 48,
   "metadata": {},
   "outputs": [],
   "source": [
    "if Load.value == False:\n",
    "    complete_results = np.ones((2,len(precondition)))*np.nan\n",
    "else:\n",
    "    complete_results = np.load(fname)\n",
    "n_runs = int(len(precondition)/batch_size)+1"
   ]
  },
  {
   "cell_type": "code",
   "execution_count": 49,
   "metadata": {},
   "outputs": [
    {
     "name": "stdout",
     "output_type": "stream",
     "text": [
      "You have to process run_ 0 till 12.\n",
      "So far you labeled: 55\n",
      "Labels are saved under 3062_training_results_Threshold_1000.npy\n",
      "Your current run number: 4\n"
     ]
    }
   ],
   "source": [
    "print(\"You have to process run_ 0 till \"+ str(n_runs-1)+\".\")\n",
    "try:\n",
    "    for label_id, label_ in enumerate(labeled_data):\n",
    "        complete_results[0][label_id+run_*batch_size] = precondition[label_id+run_*batch_size]\n",
    "        complete_results[1][label_id+run_*batch_size] = label_[1]\n",
    "    print(\"So far you labeled: \"+ str(np.sum(np.isnan(complete_results[0])!=1)))\n",
    "    if autosave:\n",
    "        np.save(fname,complete_results)\n",
    "        print(\"Labels are saved under \" + fname)\n",
    "except:\n",
    "    print(\"You just started.\")\n",
    "run_ = 4\n",
    "print(\"Your current run number: \" + str(run_))"
   ]
  },
  {
   "cell_type": "code",
   "execution_count": 50,
   "metadata": {},
   "outputs": [
    {
     "name": "stdout",
     "output_type": "stream",
     "text": [
      "While this box is checked, your data are saved after every batch round.\n"
     ]
    },
    {
     "data": {
      "application/vnd.jupyter.widget-view+json": {
       "model_id": "3573ca58dd0644209c37166cae7b48db",
       "version_major": 2,
       "version_minor": 0
      },
      "text/plain": [
       "Checkbox(value=True, description='Autosave')"
      ]
     },
     "metadata": {},
     "output_type": "display_data"
    }
   ],
   "source": [
    "autosave = Checkbox(value=True,description=\"Autosave\")\n",
    "print(\"While this box is checked, your data are saved after every batch round.\")\n",
    "autosave"
   ]
  },
  {
   "cell_type": "code",
   "execution_count": 51,
   "metadata": {
    "scrolled": false
   },
   "outputs": [
    {
     "name": "stdout",
     "output_type": "stream",
     "text": [
      "Connected.\n",
      "True\n"
     ]
    },
    {
     "name": "stderr",
     "output_type": "stream",
     "text": [
      "50it [00:42,  1.17it/s]"
     ]
    },
    {
     "name": "stdout",
     "output_type": "stream",
     "text": [
      "[(0, 1865.0, 8738.0), (1, 1224.0, 8733.0), (2, 1263.0, 8743.0), (3, 830.0, 8741.0), (4, 1896.0, 8740.0), (5, 1909.0, 8740.0), (6, 1397.0, 8743.0), (7, 1369.0, 8750.0), (8, 1505.0, 8753.0), (9, 1350.0, 8748.0), (10, 1571.0, 8752.0), (11, 1339.0, 8752.0), (12, 1439.0, 8762.0), (13, 869.0, 8761.0), (14, 1719.0, 8765.0), (15, 1655.0, 8766.0), (16, 1153.0, 8780.0), (17, 1396.0, 8783.0), (18, 1591.0, 8788.0), (19, 1444.0, 8786.0), (20, 1770.0, 8800.0), (21, 1328.0, 8801.0), (22, 1549.0, 8805.0), (23, 1395.0, 8815.0), (24, 942.0, 8816.0), (25, 1464.0, 8817.0), (26, 1337.0, 8823.0), (27, 1508.0, 8817.0), (28, 1449.0, 8840.0), (29, 1377.0, 8845.0), (30, 1538.0, 8846.0), (31, 1432.0, 8855.0), (32, 1475.0, 8857.0), (33, 1525.0, 8869.0), (34, 1828.0, 8908.0), (35, 1236.0, 8922.0), (36, 1854.0, 8938.0), (37, 1847.0, 8956.0), (38, 956.0, 10544.0), (39, 995.0, 10558.0), (40, 859.0, 10567.0), (41, 859.0, 10594.0), (42, 866.0, 10609.0), (43, 1862.0, 10627.0), (44, 867.0, 10649.0), (45, 1807.0, 10645.0), (46, 954.0, 10660.0), (47, 1671.0, 10661.0), (48, 1917.0, 10663.0), (49, 1753.0, 10669.0)]\n"
     ]
    },
    {
     "name": "stderr",
     "output_type": "stream",
     "text": [
      "\n"
     ]
    },
    {
     "data": {
      "application/vnd.jupyter.widget-view+json": {
       "model_id": "e1bc60e1869e4035860fa4be7e87d599",
       "version_major": 2,
       "version_minor": 0
      },
      "text/plain": [
       "HTML(value='0 examples annotated, 51 examples left')"
      ]
     },
     "metadata": {},
     "output_type": "display_data"
    },
    {
     "data": {
      "application/vnd.jupyter.widget-view+json": {
       "model_id": "003c81223b2c4990a86db06e07f2aa54",
       "version_major": 2,
       "version_minor": 0
      },
      "text/plain": [
       "HBox(children=(Button(description='0', style=ButtonStyle()), Button(description='1', style=ButtonStyle()), But…"
      ]
     },
     "metadata": {},
     "output_type": "display_data"
    },
    {
     "data": {
      "application/vnd.jupyter.widget-view+json": {
       "model_id": "3f2535b60013439bba57227912d30bf9",
       "version_major": 2,
       "version_minor": 0
      },
      "text/plain": [
       "Output()"
      ]
     },
     "metadata": {},
     "output_type": "display_data"
    }
   ],
   "source": [
    "# automatically refresh before downloading\n",
    "try: conn\n",
    "except NameError: conn = None\n",
    "conn = refresh_omero_session(conn)\n",
    "conn.setGroupForSession(group_id)\n",
    "image = conn.getObject(\"Image\", imageId)\n",
    "pixels = image.getPrimaryPixels()\n",
    "\n",
    "# label data\n",
    "list_batch_images,list_xy_batch_images = load_data(run_)\n",
    "print(list_xy_batch_images)\n",
    "%matplotlib notebook\n",
    "labeled_data = annotate(list_batch_images,[\"0\",\"1\"],display_fn=lambda image: show_cell(image))\n",
    "\n"
   ]
  },
  {
   "cell_type": "code",
   "execution_count": 45,
   "metadata": {},
   "outputs": [
    {
     "name": "stdout",
     "output_type": "stream",
     "text": [
      "1\n",
      "0\n",
      "1\n",
      "0\n",
      "0\n",
      "Labels are saved under 3062_training_results_Threshold_1000.npy\n"
     ]
    }
   ],
   "source": [
    "# save data\n",
    "if autosave:\n",
    "    for label_id, label_ in enumerate(labeled_data):\n",
    "        complete_results[0][label_id+run_*batch_size] = precondition[label_id+run_*batch_size]\n",
    "        complete_results[1][label_id+run_*batch_size] = label_[1]\n",
    "    np.save(fname,complete_results)\n",
    "    print(\"Labels are saved under \" + fname)\n"
   ]
  },
  {
   "cell_type": "code",
   "execution_count": 43,
   "metadata": {},
   "outputs": [
    {
     "name": "stdout",
     "output_type": "stream",
     "text": [
      "If this box is checked, you can manually save your data as well.\n"
     ]
    },
    {
     "data": {
      "application/vnd.jupyter.widget-view+json": {
       "model_id": "506dc605e82d44a4bb7118a18c6da3e2",
       "version_major": 2,
       "version_minor": 0
      },
      "text/plain": [
       "Checkbox(value=False, description='Explicit save')"
      ]
     },
     "metadata": {},
     "output_type": "display_data"
    }
   ],
   "source": [
    "SAVE_BOOL = Checkbox(value=False,description=\"Explicit save\")\n",
    "print(\"If this box is checked, you can manually save your data as well.\")\n",
    "SAVE_BOOL"
   ]
  },
  {
   "cell_type": "code",
   "execution_count": 44,
   "metadata": {},
   "outputs": [],
   "source": [
    "if SAVE_BOOL.value:\n",
    "    np.save(fname,complete_results)\n"
   ]
  },
  {
   "cell_type": "code",
   "execution_count": 41,
   "metadata": {},
   "outputs": [
    {
     "data": {
      "application/javascript": [
       "/* Put everything inside the global mpl namespace */\n",
       "window.mpl = {};\n",
       "\n",
       "\n",
       "mpl.get_websocket_type = function() {\n",
       "    if (typeof(WebSocket) !== 'undefined') {\n",
       "        return WebSocket;\n",
       "    } else if (typeof(MozWebSocket) !== 'undefined') {\n",
       "        return MozWebSocket;\n",
       "    } else {\n",
       "        alert('Your browser does not have WebSocket support. ' +\n",
       "              'Please try Chrome, Safari or Firefox ≥ 6. ' +\n",
       "              'Firefox 4 and 5 are also supported but you ' +\n",
       "              'have to enable WebSockets in about:config.');\n",
       "    };\n",
       "}\n",
       "\n",
       "mpl.figure = function(figure_id, websocket, ondownload, parent_element) {\n",
       "    this.id = figure_id;\n",
       "\n",
       "    this.ws = websocket;\n",
       "\n",
       "    this.supports_binary = (this.ws.binaryType != undefined);\n",
       "\n",
       "    if (!this.supports_binary) {\n",
       "        var warnings = document.getElementById(\"mpl-warnings\");\n",
       "        if (warnings) {\n",
       "            warnings.style.display = 'block';\n",
       "            warnings.textContent = (\n",
       "                \"This browser does not support binary websocket messages. \" +\n",
       "                    \"Performance may be slow.\");\n",
       "        }\n",
       "    }\n",
       "\n",
       "    this.imageObj = new Image();\n",
       "\n",
       "    this.context = undefined;\n",
       "    this.message = undefined;\n",
       "    this.canvas = undefined;\n",
       "    this.rubberband_canvas = undefined;\n",
       "    this.rubberband_context = undefined;\n",
       "    this.format_dropdown = undefined;\n",
       "\n",
       "    this.image_mode = 'full';\n",
       "\n",
       "    this.root = $('<div/>');\n",
       "    this._root_extra_style(this.root)\n",
       "    this.root.attr('style', 'display: inline-block');\n",
       "\n",
       "    $(parent_element).append(this.root);\n",
       "\n",
       "    this._init_header(this);\n",
       "    this._init_canvas(this);\n",
       "    this._init_toolbar(this);\n",
       "\n",
       "    var fig = this;\n",
       "\n",
       "    this.waiting = false;\n",
       "\n",
       "    this.ws.onopen =  function () {\n",
       "            fig.send_message(\"supports_binary\", {value: fig.supports_binary});\n",
       "            fig.send_message(\"send_image_mode\", {});\n",
       "            if (mpl.ratio != 1) {\n",
       "                fig.send_message(\"set_dpi_ratio\", {'dpi_ratio': mpl.ratio});\n",
       "            }\n",
       "            fig.send_message(\"refresh\", {});\n",
       "        }\n",
       "\n",
       "    this.imageObj.onload = function() {\n",
       "            if (fig.image_mode == 'full') {\n",
       "                // Full images could contain transparency (where diff images\n",
       "                // almost always do), so we need to clear the canvas so that\n",
       "                // there is no ghosting.\n",
       "                fig.context.clearRect(0, 0, fig.canvas.width, fig.canvas.height);\n",
       "            }\n",
       "            fig.context.drawImage(fig.imageObj, 0, 0);\n",
       "        };\n",
       "\n",
       "    this.imageObj.onunload = function() {\n",
       "        fig.ws.close();\n",
       "    }\n",
       "\n",
       "    this.ws.onmessage = this._make_on_message_function(this);\n",
       "\n",
       "    this.ondownload = ondownload;\n",
       "}\n",
       "\n",
       "mpl.figure.prototype._init_header = function() {\n",
       "    var titlebar = $(\n",
       "        '<div class=\"ui-dialog-titlebar ui-widget-header ui-corner-all ' +\n",
       "        'ui-helper-clearfix\"/>');\n",
       "    var titletext = $(\n",
       "        '<div class=\"ui-dialog-title\" style=\"width: 100%; ' +\n",
       "        'text-align: center; padding: 3px;\"/>');\n",
       "    titlebar.append(titletext)\n",
       "    this.root.append(titlebar);\n",
       "    this.header = titletext[0];\n",
       "}\n",
       "\n",
       "\n",
       "\n",
       "mpl.figure.prototype._canvas_extra_style = function(canvas_div) {\n",
       "\n",
       "}\n",
       "\n",
       "\n",
       "mpl.figure.prototype._root_extra_style = function(canvas_div) {\n",
       "\n",
       "}\n",
       "\n",
       "mpl.figure.prototype._init_canvas = function() {\n",
       "    var fig = this;\n",
       "\n",
       "    var canvas_div = $('<div/>');\n",
       "\n",
       "    canvas_div.attr('style', 'position: relative; clear: both; outline: 0');\n",
       "\n",
       "    function canvas_keyboard_event(event) {\n",
       "        return fig.key_event(event, event['data']);\n",
       "    }\n",
       "\n",
       "    canvas_div.keydown('key_press', canvas_keyboard_event);\n",
       "    canvas_div.keyup('key_release', canvas_keyboard_event);\n",
       "    this.canvas_div = canvas_div\n",
       "    this._canvas_extra_style(canvas_div)\n",
       "    this.root.append(canvas_div);\n",
       "\n",
       "    var canvas = $('<canvas/>');\n",
       "    canvas.addClass('mpl-canvas');\n",
       "    canvas.attr('style', \"left: 0; top: 0; z-index: 0; outline: 0\")\n",
       "\n",
       "    this.canvas = canvas[0];\n",
       "    this.context = canvas[0].getContext(\"2d\");\n",
       "\n",
       "    var backingStore = this.context.backingStorePixelRatio ||\n",
       "\tthis.context.webkitBackingStorePixelRatio ||\n",
       "\tthis.context.mozBackingStorePixelRatio ||\n",
       "\tthis.context.msBackingStorePixelRatio ||\n",
       "\tthis.context.oBackingStorePixelRatio ||\n",
       "\tthis.context.backingStorePixelRatio || 1;\n",
       "\n",
       "    mpl.ratio = (window.devicePixelRatio || 1) / backingStore;\n",
       "\n",
       "    var rubberband = $('<canvas/>');\n",
       "    rubberband.attr('style', \"position: absolute; left: 0; top: 0; z-index: 1;\")\n",
       "\n",
       "    var pass_mouse_events = true;\n",
       "\n",
       "    canvas_div.resizable({\n",
       "        start: function(event, ui) {\n",
       "            pass_mouse_events = false;\n",
       "        },\n",
       "        resize: function(event, ui) {\n",
       "            fig.request_resize(ui.size.width, ui.size.height);\n",
       "        },\n",
       "        stop: function(event, ui) {\n",
       "            pass_mouse_events = true;\n",
       "            fig.request_resize(ui.size.width, ui.size.height);\n",
       "        },\n",
       "    });\n",
       "\n",
       "    function mouse_event_fn(event) {\n",
       "        if (pass_mouse_events)\n",
       "            return fig.mouse_event(event, event['data']);\n",
       "    }\n",
       "\n",
       "    rubberband.mousedown('button_press', mouse_event_fn);\n",
       "    rubberband.mouseup('button_release', mouse_event_fn);\n",
       "    // Throttle sequential mouse events to 1 every 20ms.\n",
       "    rubberband.mousemove('motion_notify', mouse_event_fn);\n",
       "\n",
       "    rubberband.mouseenter('figure_enter', mouse_event_fn);\n",
       "    rubberband.mouseleave('figure_leave', mouse_event_fn);\n",
       "\n",
       "    canvas_div.on(\"wheel\", function (event) {\n",
       "        event = event.originalEvent;\n",
       "        event['data'] = 'scroll'\n",
       "        if (event.deltaY < 0) {\n",
       "            event.step = 1;\n",
       "        } else {\n",
       "            event.step = -1;\n",
       "        }\n",
       "        mouse_event_fn(event);\n",
       "    });\n",
       "\n",
       "    canvas_div.append(canvas);\n",
       "    canvas_div.append(rubberband);\n",
       "\n",
       "    this.rubberband = rubberband;\n",
       "    this.rubberband_canvas = rubberband[0];\n",
       "    this.rubberband_context = rubberband[0].getContext(\"2d\");\n",
       "    this.rubberband_context.strokeStyle = \"#000000\";\n",
       "\n",
       "    this._resize_canvas = function(width, height) {\n",
       "        // Keep the size of the canvas, canvas container, and rubber band\n",
       "        // canvas in synch.\n",
       "        canvas_div.css('width', width)\n",
       "        canvas_div.css('height', height)\n",
       "\n",
       "        canvas.attr('width', width * mpl.ratio);\n",
       "        canvas.attr('height', height * mpl.ratio);\n",
       "        canvas.attr('style', 'width: ' + width + 'px; height: ' + height + 'px;');\n",
       "\n",
       "        rubberband.attr('width', width);\n",
       "        rubberband.attr('height', height);\n",
       "    }\n",
       "\n",
       "    // Set the figure to an initial 600x600px, this will subsequently be updated\n",
       "    // upon first draw.\n",
       "    this._resize_canvas(600, 600);\n",
       "\n",
       "    // Disable right mouse context menu.\n",
       "    $(this.rubberband_canvas).bind(\"contextmenu\",function(e){\n",
       "        return false;\n",
       "    });\n",
       "\n",
       "    function set_focus () {\n",
       "        canvas.focus();\n",
       "        canvas_div.focus();\n",
       "    }\n",
       "\n",
       "    window.setTimeout(set_focus, 100);\n",
       "}\n",
       "\n",
       "mpl.figure.prototype._init_toolbar = function() {\n",
       "    var fig = this;\n",
       "\n",
       "    var nav_element = $('<div/>');\n",
       "    nav_element.attr('style', 'width: 100%');\n",
       "    this.root.append(nav_element);\n",
       "\n",
       "    // Define a callback function for later on.\n",
       "    function toolbar_event(event) {\n",
       "        return fig.toolbar_button_onclick(event['data']);\n",
       "    }\n",
       "    function toolbar_mouse_event(event) {\n",
       "        return fig.toolbar_button_onmouseover(event['data']);\n",
       "    }\n",
       "\n",
       "    for(var toolbar_ind in mpl.toolbar_items) {\n",
       "        var name = mpl.toolbar_items[toolbar_ind][0];\n",
       "        var tooltip = mpl.toolbar_items[toolbar_ind][1];\n",
       "        var image = mpl.toolbar_items[toolbar_ind][2];\n",
       "        var method_name = mpl.toolbar_items[toolbar_ind][3];\n",
       "\n",
       "        if (!name) {\n",
       "            // put a spacer in here.\n",
       "            continue;\n",
       "        }\n",
       "        var button = $('<button/>');\n",
       "        button.addClass('ui-button ui-widget ui-state-default ui-corner-all ' +\n",
       "                        'ui-button-icon-only');\n",
       "        button.attr('role', 'button');\n",
       "        button.attr('aria-disabled', 'false');\n",
       "        button.click(method_name, toolbar_event);\n",
       "        button.mouseover(tooltip, toolbar_mouse_event);\n",
       "\n",
       "        var icon_img = $('<span/>');\n",
       "        icon_img.addClass('ui-button-icon-primary ui-icon');\n",
       "        icon_img.addClass(image);\n",
       "        icon_img.addClass('ui-corner-all');\n",
       "\n",
       "        var tooltip_span = $('<span/>');\n",
       "        tooltip_span.addClass('ui-button-text');\n",
       "        tooltip_span.html(tooltip);\n",
       "\n",
       "        button.append(icon_img);\n",
       "        button.append(tooltip_span);\n",
       "\n",
       "        nav_element.append(button);\n",
       "    }\n",
       "\n",
       "    var fmt_picker_span = $('<span/>');\n",
       "\n",
       "    var fmt_picker = $('<select/>');\n",
       "    fmt_picker.addClass('mpl-toolbar-option ui-widget ui-widget-content');\n",
       "    fmt_picker_span.append(fmt_picker);\n",
       "    nav_element.append(fmt_picker_span);\n",
       "    this.format_dropdown = fmt_picker[0];\n",
       "\n",
       "    for (var ind in mpl.extensions) {\n",
       "        var fmt = mpl.extensions[ind];\n",
       "        var option = $(\n",
       "            '<option/>', {selected: fmt === mpl.default_extension}).html(fmt);\n",
       "        fmt_picker.append(option);\n",
       "    }\n",
       "\n",
       "    // Add hover states to the ui-buttons\n",
       "    $( \".ui-button\" ).hover(\n",
       "        function() { $(this).addClass(\"ui-state-hover\");},\n",
       "        function() { $(this).removeClass(\"ui-state-hover\");}\n",
       "    );\n",
       "\n",
       "    var status_bar = $('<span class=\"mpl-message\"/>');\n",
       "    nav_element.append(status_bar);\n",
       "    this.message = status_bar[0];\n",
       "}\n",
       "\n",
       "mpl.figure.prototype.request_resize = function(x_pixels, y_pixels) {\n",
       "    // Request matplotlib to resize the figure. Matplotlib will then trigger a resize in the client,\n",
       "    // which will in turn request a refresh of the image.\n",
       "    this.send_message('resize', {'width': x_pixels, 'height': y_pixels});\n",
       "}\n",
       "\n",
       "mpl.figure.prototype.send_message = function(type, properties) {\n",
       "    properties['type'] = type;\n",
       "    properties['figure_id'] = this.id;\n",
       "    this.ws.send(JSON.stringify(properties));\n",
       "}\n",
       "\n",
       "mpl.figure.prototype.send_draw_message = function() {\n",
       "    if (!this.waiting) {\n",
       "        this.waiting = true;\n",
       "        this.ws.send(JSON.stringify({type: \"draw\", figure_id: this.id}));\n",
       "    }\n",
       "}\n",
       "\n",
       "\n",
       "mpl.figure.prototype.handle_save = function(fig, msg) {\n",
       "    var format_dropdown = fig.format_dropdown;\n",
       "    var format = format_dropdown.options[format_dropdown.selectedIndex].value;\n",
       "    fig.ondownload(fig, format);\n",
       "}\n",
       "\n",
       "\n",
       "mpl.figure.prototype.handle_resize = function(fig, msg) {\n",
       "    var size = msg['size'];\n",
       "    if (size[0] != fig.canvas.width || size[1] != fig.canvas.height) {\n",
       "        fig._resize_canvas(size[0], size[1]);\n",
       "        fig.send_message(\"refresh\", {});\n",
       "    };\n",
       "}\n",
       "\n",
       "mpl.figure.prototype.handle_rubberband = function(fig, msg) {\n",
       "    var x0 = msg['x0'] / mpl.ratio;\n",
       "    var y0 = (fig.canvas.height - msg['y0']) / mpl.ratio;\n",
       "    var x1 = msg['x1'] / mpl.ratio;\n",
       "    var y1 = (fig.canvas.height - msg['y1']) / mpl.ratio;\n",
       "    x0 = Math.floor(x0) + 0.5;\n",
       "    y0 = Math.floor(y0) + 0.5;\n",
       "    x1 = Math.floor(x1) + 0.5;\n",
       "    y1 = Math.floor(y1) + 0.5;\n",
       "    var min_x = Math.min(x0, x1);\n",
       "    var min_y = Math.min(y0, y1);\n",
       "    var width = Math.abs(x1 - x0);\n",
       "    var height = Math.abs(y1 - y0);\n",
       "\n",
       "    fig.rubberband_context.clearRect(\n",
       "        0, 0, fig.canvas.width / mpl.ratio, fig.canvas.height / mpl.ratio);\n",
       "\n",
       "    fig.rubberband_context.strokeRect(min_x, min_y, width, height);\n",
       "}\n",
       "\n",
       "mpl.figure.prototype.handle_figure_label = function(fig, msg) {\n",
       "    // Updates the figure title.\n",
       "    fig.header.textContent = msg['label'];\n",
       "}\n",
       "\n",
       "mpl.figure.prototype.handle_cursor = function(fig, msg) {\n",
       "    var cursor = msg['cursor'];\n",
       "    switch(cursor)\n",
       "    {\n",
       "    case 0:\n",
       "        cursor = 'pointer';\n",
       "        break;\n",
       "    case 1:\n",
       "        cursor = 'default';\n",
       "        break;\n",
       "    case 2:\n",
       "        cursor = 'crosshair';\n",
       "        break;\n",
       "    case 3:\n",
       "        cursor = 'move';\n",
       "        break;\n",
       "    }\n",
       "    fig.rubberband_canvas.style.cursor = cursor;\n",
       "}\n",
       "\n",
       "mpl.figure.prototype.handle_message = function(fig, msg) {\n",
       "    fig.message.textContent = msg['message'];\n",
       "}\n",
       "\n",
       "mpl.figure.prototype.handle_draw = function(fig, msg) {\n",
       "    // Request the server to send over a new figure.\n",
       "    fig.send_draw_message();\n",
       "}\n",
       "\n",
       "mpl.figure.prototype.handle_image_mode = function(fig, msg) {\n",
       "    fig.image_mode = msg['mode'];\n",
       "}\n",
       "\n",
       "mpl.figure.prototype.updated_canvas_event = function() {\n",
       "    // Called whenever the canvas gets updated.\n",
       "    this.send_message(\"ack\", {});\n",
       "}\n",
       "\n",
       "// A function to construct a web socket function for onmessage handling.\n",
       "// Called in the figure constructor.\n",
       "mpl.figure.prototype._make_on_message_function = function(fig) {\n",
       "    return function socket_on_message(evt) {\n",
       "        if (evt.data instanceof Blob) {\n",
       "            /* FIXME: We get \"Resource interpreted as Image but\n",
       "             * transferred with MIME type text/plain:\" errors on\n",
       "             * Chrome.  But how to set the MIME type?  It doesn't seem\n",
       "             * to be part of the websocket stream */\n",
       "            evt.data.type = \"image/png\";\n",
       "\n",
       "            /* Free the memory for the previous frames */\n",
       "            if (fig.imageObj.src) {\n",
       "                (window.URL || window.webkitURL).revokeObjectURL(\n",
       "                    fig.imageObj.src);\n",
       "            }\n",
       "\n",
       "            fig.imageObj.src = (window.URL || window.webkitURL).createObjectURL(\n",
       "                evt.data);\n",
       "            fig.updated_canvas_event();\n",
       "            fig.waiting = false;\n",
       "            return;\n",
       "        }\n",
       "        else if (typeof evt.data === 'string' && evt.data.slice(0, 21) == \"data:image/png;base64\") {\n",
       "            fig.imageObj.src = evt.data;\n",
       "            fig.updated_canvas_event();\n",
       "            fig.waiting = false;\n",
       "            return;\n",
       "        }\n",
       "\n",
       "        var msg = JSON.parse(evt.data);\n",
       "        var msg_type = msg['type'];\n",
       "\n",
       "        // Call the  \"handle_{type}\" callback, which takes\n",
       "        // the figure and JSON message as its only arguments.\n",
       "        try {\n",
       "            var callback = fig[\"handle_\" + msg_type];\n",
       "        } catch (e) {\n",
       "            console.log(\"No handler for the '\" + msg_type + \"' message type: \", msg);\n",
       "            return;\n",
       "        }\n",
       "\n",
       "        if (callback) {\n",
       "            try {\n",
       "                // console.log(\"Handling '\" + msg_type + \"' message: \", msg);\n",
       "                callback(fig, msg);\n",
       "            } catch (e) {\n",
       "                console.log(\"Exception inside the 'handler_\" + msg_type + \"' callback:\", e, e.stack, msg);\n",
       "            }\n",
       "        }\n",
       "    };\n",
       "}\n",
       "\n",
       "// from http://stackoverflow.com/questions/1114465/getting-mouse-location-in-canvas\n",
       "mpl.findpos = function(e) {\n",
       "    //this section is from http://www.quirksmode.org/js/events_properties.html\n",
       "    var targ;\n",
       "    if (!e)\n",
       "        e = window.event;\n",
       "    if (e.target)\n",
       "        targ = e.target;\n",
       "    else if (e.srcElement)\n",
       "        targ = e.srcElement;\n",
       "    if (targ.nodeType == 3) // defeat Safari bug\n",
       "        targ = targ.parentNode;\n",
       "\n",
       "    // jQuery normalizes the pageX and pageY\n",
       "    // pageX,Y are the mouse positions relative to the document\n",
       "    // offset() returns the position of the element relative to the document\n",
       "    var x = e.pageX - $(targ).offset().left;\n",
       "    var y = e.pageY - $(targ).offset().top;\n",
       "\n",
       "    return {\"x\": x, \"y\": y};\n",
       "};\n",
       "\n",
       "/*\n",
       " * return a copy of an object with only non-object keys\n",
       " * we need this to avoid circular references\n",
       " * http://stackoverflow.com/a/24161582/3208463\n",
       " */\n",
       "function simpleKeys (original) {\n",
       "  return Object.keys(original).reduce(function (obj, key) {\n",
       "    if (typeof original[key] !== 'object')\n",
       "        obj[key] = original[key]\n",
       "    return obj;\n",
       "  }, {});\n",
       "}\n",
       "\n",
       "mpl.figure.prototype.mouse_event = function(event, name) {\n",
       "    var canvas_pos = mpl.findpos(event)\n",
       "\n",
       "    if (name === 'button_press')\n",
       "    {\n",
       "        this.canvas.focus();\n",
       "        this.canvas_div.focus();\n",
       "    }\n",
       "\n",
       "    var x = canvas_pos.x * mpl.ratio;\n",
       "    var y = canvas_pos.y * mpl.ratio;\n",
       "\n",
       "    this.send_message(name, {x: x, y: y, button: event.button,\n",
       "                             step: event.step,\n",
       "                             guiEvent: simpleKeys(event)});\n",
       "\n",
       "    /* This prevents the web browser from automatically changing to\n",
       "     * the text insertion cursor when the button is pressed.  We want\n",
       "     * to control all of the cursor setting manually through the\n",
       "     * 'cursor' event from matplotlib */\n",
       "    event.preventDefault();\n",
       "    return false;\n",
       "}\n",
       "\n",
       "mpl.figure.prototype._key_event_extra = function(event, name) {\n",
       "    // Handle any extra behaviour associated with a key event\n",
       "}\n",
       "\n",
       "mpl.figure.prototype.key_event = function(event, name) {\n",
       "\n",
       "    // Prevent repeat events\n",
       "    if (name == 'key_press')\n",
       "    {\n",
       "        if (event.which === this._key)\n",
       "            return;\n",
       "        else\n",
       "            this._key = event.which;\n",
       "    }\n",
       "    if (name == 'key_release')\n",
       "        this._key = null;\n",
       "\n",
       "    var value = '';\n",
       "    if (event.ctrlKey && event.which != 17)\n",
       "        value += \"ctrl+\";\n",
       "    if (event.altKey && event.which != 18)\n",
       "        value += \"alt+\";\n",
       "    if (event.shiftKey && event.which != 16)\n",
       "        value += \"shift+\";\n",
       "\n",
       "    value += 'k';\n",
       "    value += event.which.toString();\n",
       "\n",
       "    this._key_event_extra(event, name);\n",
       "\n",
       "    this.send_message(name, {key: value,\n",
       "                             guiEvent: simpleKeys(event)});\n",
       "    return false;\n",
       "}\n",
       "\n",
       "mpl.figure.prototype.toolbar_button_onclick = function(name) {\n",
       "    if (name == 'download') {\n",
       "        this.handle_save(this, null);\n",
       "    } else {\n",
       "        this.send_message(\"toolbar_button\", {name: name});\n",
       "    }\n",
       "};\n",
       "\n",
       "mpl.figure.prototype.toolbar_button_onmouseover = function(tooltip) {\n",
       "    this.message.textContent = tooltip;\n",
       "};\n",
       "mpl.toolbar_items = [[\"Home\", \"Reset original view\", \"fa fa-home icon-home\", \"home\"], [\"Back\", \"Back to previous view\", \"fa fa-arrow-left icon-arrow-left\", \"back\"], [\"Forward\", \"Forward to next view\", \"fa fa-arrow-right icon-arrow-right\", \"forward\"], [\"\", \"\", \"\", \"\"], [\"Pan\", \"Pan axes with left mouse, zoom with right\", \"fa fa-arrows icon-move\", \"pan\"], [\"Zoom\", \"Zoom to rectangle\", \"fa fa-square-o icon-check-empty\", \"zoom\"], [\"\", \"\", \"\", \"\"], [\"Download\", \"Download plot\", \"fa fa-floppy-o icon-save\", \"download\"]];\n",
       "\n",
       "mpl.extensions = [\"eps\", \"jpeg\", \"pdf\", \"png\", \"ps\", \"raw\", \"svg\", \"tif\"];\n",
       "\n",
       "mpl.default_extension = \"png\";var comm_websocket_adapter = function(comm) {\n",
       "    // Create a \"websocket\"-like object which calls the given IPython comm\n",
       "    // object with the appropriate methods. Currently this is a non binary\n",
       "    // socket, so there is still some room for performance tuning.\n",
       "    var ws = {};\n",
       "\n",
       "    ws.close = function() {\n",
       "        comm.close()\n",
       "    };\n",
       "    ws.send = function(m) {\n",
       "        //console.log('sending', m);\n",
       "        comm.send(m);\n",
       "    };\n",
       "    // Register the callback with on_msg.\n",
       "    comm.on_msg(function(msg) {\n",
       "        //console.log('receiving', msg['content']['data'], msg);\n",
       "        // Pass the mpl event to the overridden (by mpl) onmessage function.\n",
       "        ws.onmessage(msg['content']['data'])\n",
       "    });\n",
       "    return ws;\n",
       "}\n",
       "\n",
       "mpl.mpl_figure_comm = function(comm, msg) {\n",
       "    // This is the function which gets called when the mpl process\n",
       "    // starts-up an IPython Comm through the \"matplotlib\" channel.\n",
       "\n",
       "    var id = msg.content.data.id;\n",
       "    // Get hold of the div created by the display call when the Comm\n",
       "    // socket was opened in Python.\n",
       "    var element = $(\"#\" + id);\n",
       "    var ws_proxy = comm_websocket_adapter(comm)\n",
       "\n",
       "    function ondownload(figure, format) {\n",
       "        window.open(figure.imageObj.src);\n",
       "    }\n",
       "\n",
       "    var fig = new mpl.figure(id, ws_proxy,\n",
       "                           ondownload,\n",
       "                           element.get(0));\n",
       "\n",
       "    // Call onopen now - mpl needs it, as it is assuming we've passed it a real\n",
       "    // web socket which is closed, not our websocket->open comm proxy.\n",
       "    ws_proxy.onopen();\n",
       "\n",
       "    fig.parent_element = element.get(0);\n",
       "    fig.cell_info = mpl.find_output_cell(\"<div id='\" + id + \"'></div>\");\n",
       "    if (!fig.cell_info) {\n",
       "        console.error(\"Failed to find cell for figure\", id, fig);\n",
       "        return;\n",
       "    }\n",
       "\n",
       "    var output_index = fig.cell_info[2]\n",
       "    var cell = fig.cell_info[0];\n",
       "\n",
       "};\n",
       "\n",
       "mpl.figure.prototype.handle_close = function(fig, msg) {\n",
       "    var width = fig.canvas.width/mpl.ratio\n",
       "    fig.root.unbind('remove')\n",
       "\n",
       "    // Update the output cell to use the data from the current canvas.\n",
       "    fig.push_to_output();\n",
       "    var dataURL = fig.canvas.toDataURL();\n",
       "    // Re-enable the keyboard manager in IPython - without this line, in FF,\n",
       "    // the notebook keyboard shortcuts fail.\n",
       "    IPython.keyboard_manager.enable()\n",
       "    $(fig.parent_element).html('<img src=\"' + dataURL + '\" width=\"' + width + '\">');\n",
       "    fig.close_ws(fig, msg);\n",
       "}\n",
       "\n",
       "mpl.figure.prototype.close_ws = function(fig, msg){\n",
       "    fig.send_message('closing', msg);\n",
       "    // fig.ws.close()\n",
       "}\n",
       "\n",
       "mpl.figure.prototype.push_to_output = function(remove_interactive) {\n",
       "    // Turn the data on the canvas into data in the output cell.\n",
       "    var width = this.canvas.width/mpl.ratio\n",
       "    var dataURL = this.canvas.toDataURL();\n",
       "    this.cell_info[1]['text/html'] = '<img src=\"' + dataURL + '\" width=\"' + width + '\">';\n",
       "}\n",
       "\n",
       "mpl.figure.prototype.updated_canvas_event = function() {\n",
       "    // Tell IPython that the notebook contents must change.\n",
       "    IPython.notebook.set_dirty(true);\n",
       "    this.send_message(\"ack\", {});\n",
       "    var fig = this;\n",
       "    // Wait a second, then push the new image to the DOM so\n",
       "    // that it is saved nicely (might be nice to debounce this).\n",
       "    setTimeout(function () { fig.push_to_output() }, 1000);\n",
       "}\n",
       "\n",
       "mpl.figure.prototype._init_toolbar = function() {\n",
       "    var fig = this;\n",
       "\n",
       "    var nav_element = $('<div/>');\n",
       "    nav_element.attr('style', 'width: 100%');\n",
       "    this.root.append(nav_element);\n",
       "\n",
       "    // Define a callback function for later on.\n",
       "    function toolbar_event(event) {\n",
       "        return fig.toolbar_button_onclick(event['data']);\n",
       "    }\n",
       "    function toolbar_mouse_event(event) {\n",
       "        return fig.toolbar_button_onmouseover(event['data']);\n",
       "    }\n",
       "\n",
       "    for(var toolbar_ind in mpl.toolbar_items){\n",
       "        var name = mpl.toolbar_items[toolbar_ind][0];\n",
       "        var tooltip = mpl.toolbar_items[toolbar_ind][1];\n",
       "        var image = mpl.toolbar_items[toolbar_ind][2];\n",
       "        var method_name = mpl.toolbar_items[toolbar_ind][3];\n",
       "\n",
       "        if (!name) { continue; };\n",
       "\n",
       "        var button = $('<button class=\"btn btn-default\" href=\"#\" title=\"' + name + '\"><i class=\"fa ' + image + ' fa-lg\"></i></button>');\n",
       "        button.click(method_name, toolbar_event);\n",
       "        button.mouseover(tooltip, toolbar_mouse_event);\n",
       "        nav_element.append(button);\n",
       "    }\n",
       "\n",
       "    // Add the status bar.\n",
       "    var status_bar = $('<span class=\"mpl-message\" style=\"text-align:right; float: right;\"/>');\n",
       "    nav_element.append(status_bar);\n",
       "    this.message = status_bar[0];\n",
       "\n",
       "    // Add the close button to the window.\n",
       "    var buttongrp = $('<div class=\"btn-group inline pull-right\"></div>');\n",
       "    var button = $('<button class=\"btn btn-mini btn-primary\" href=\"#\" title=\"Stop Interaction\"><i class=\"fa fa-power-off icon-remove icon-large\"></i></button>');\n",
       "    button.click(function (evt) { fig.handle_close(fig, {}); } );\n",
       "    button.mouseover('Stop Interaction', toolbar_mouse_event);\n",
       "    buttongrp.append(button);\n",
       "    var titlebar = this.root.find($('.ui-dialog-titlebar'));\n",
       "    titlebar.prepend(buttongrp);\n",
       "}\n",
       "\n",
       "mpl.figure.prototype._root_extra_style = function(el){\n",
       "    var fig = this\n",
       "    el.on(\"remove\", function(){\n",
       "\tfig.close_ws(fig, {});\n",
       "    });\n",
       "}\n",
       "\n",
       "mpl.figure.prototype._canvas_extra_style = function(el){\n",
       "    // this is important to make the div 'focusable\n",
       "    el.attr('tabindex', 0)\n",
       "    // reach out to IPython and tell the keyboard manager to turn it's self\n",
       "    // off when our div gets focus\n",
       "\n",
       "    // location in version 3\n",
       "    if (IPython.notebook.keyboard_manager) {\n",
       "        IPython.notebook.keyboard_manager.register_events(el);\n",
       "    }\n",
       "    else {\n",
       "        // location in version 2\n",
       "        IPython.keyboard_manager.register_events(el);\n",
       "    }\n",
       "\n",
       "}\n",
       "\n",
       "mpl.figure.prototype._key_event_extra = function(event, name) {\n",
       "    var manager = IPython.notebook.keyboard_manager;\n",
       "    if (!manager)\n",
       "        manager = IPython.keyboard_manager;\n",
       "\n",
       "    // Check for shift+enter\n",
       "    if (event.shiftKey && event.which == 13) {\n",
       "        this.canvas_div.blur();\n",
       "        // select the cell after this one\n",
       "        var index = IPython.notebook.find_cell_index(this.cell_info[0]);\n",
       "        IPython.notebook.select(index + 1);\n",
       "    }\n",
       "}\n",
       "\n",
       "mpl.figure.prototype.handle_save = function(fig, msg) {\n",
       "    fig.ondownload(fig, null);\n",
       "}\n",
       "\n",
       "\n",
       "mpl.find_output_cell = function(html_output) {\n",
       "    // Return the cell and output element which can be found *uniquely* in the notebook.\n",
       "    // Note - this is a bit hacky, but it is done because the \"notebook_saving.Notebook\"\n",
       "    // IPython event is triggered only after the cells have been serialised, which for\n",
       "    // our purposes (turning an active figure into a static one), is too late.\n",
       "    var cells = IPython.notebook.get_cells();\n",
       "    var ncells = cells.length;\n",
       "    for (var i=0; i<ncells; i++) {\n",
       "        var cell = cells[i];\n",
       "        if (cell.cell_type === 'code'){\n",
       "            for (var j=0; j<cell.output_area.outputs.length; j++) {\n",
       "                var data = cell.output_area.outputs[j];\n",
       "                if (data.data) {\n",
       "                    // IPython >= 3 moved mimebundle to data attribute of output\n",
       "                    data = data.data;\n",
       "                }\n",
       "                if (data['text/html'] == html_output) {\n",
       "                    return [cell, data, j];\n",
       "                }\n",
       "            }\n",
       "        }\n",
       "    }\n",
       "}\n",
       "\n",
       "// Register the function which deals with the matplotlib target/channel.\n",
       "// The kernel may be null if the page has been refreshed.\n",
       "if (IPython.notebook.kernel != null) {\n",
       "    IPython.notebook.kernel.comm_manager.register_target('matplotlib', mpl.mpl_figure_comm);\n",
       "}\n"
      ],
      "text/plain": [
       "<IPython.core.display.Javascript object>"
      ]
     },
     "metadata": {},
     "output_type": "display_data"
    },
    {
     "data": {
      "text/html": [
       "<img src=\"data:image/png;base64,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\" width=\"639.9999861283738\">"
      ],
      "text/plain": [
       "<IPython.core.display.HTML object>"
      ]
     },
     "metadata": {},
     "output_type": "display_data"
    },
    {
     "data": {
      "text/plain": [
       "Text(0, 0.5, 'Number of cells')"
      ]
     },
     "execution_count": 41,
     "metadata": {},
     "output_type": "execute_result"
    }
   ],
   "source": [
    "plt.figure()\n",
    "plt.bar([0,1,2],[np.sum(complete_results[1]==1),np.sum(complete_results[1]==0),np.sum(np.isnan(complete_results[1]))]);\n",
    "plt.xticks([0,1,2,],[\"0\",\"1\",\"NaN\"]);\n",
    "plt.xlabel(\"Labels\")\n",
    "plt.ylabel(\"Number of cells\")"
   ]
  },
  {
   "cell_type": "code",
   "execution_count": null,
   "metadata": {},
   "outputs": [],
   "source": []
  }
 ],
 "metadata": {
  "kernelspec": {
   "display_name": "CondaEnv37",
   "language": "python",
   "name": "condaenv37"
  },
  "language_info": {
   "codemirror_mode": {
    "name": "ipython",
    "version": 3
   },
   "file_extension": ".py",
   "mimetype": "text/x-python",
   "name": "python",
   "nbconvert_exporter": "python",
   "pygments_lexer": "ipython3",
   "version": "3.7.7"
  }
 },
 "nbformat": 4,
 "nbformat_minor": 4
}
