{
  "nbformat": 4,
  "nbformat_minor": 0,
  "metadata": {
    "colab": {
      "provenance": [],
      "gpuType": "T4",
      "authorship_tag": "ABX9TyOr/AkEr3sEkyfUGsAJyXyz",
      "include_colab_link": true
    },
    "kernelspec": {
      "name": "python3",
      "display_name": "Python 3"
    },
    "language_info": {
      "name": "python"
    },
    "accelerator": "GPU"
  },
  "cells": [
    {
      "cell_type": "markdown",
      "metadata": {
        "id": "view-in-github",
        "colab_type": "text"
      },
      "source": [
        "<a href=\"https://colab.research.google.com/github/J-Franz/CellDetectorPreprocessing/blob/master/CellDetectorPreprocessing_Colabs.ipynb\" target=\"_parent\"><img src=\"https://colab.research.google.com/assets/colab-badge.svg\" alt=\"Open In Colab\"/></a>"
      ]
    },
    {
      "cell_type": "code",
      "source": [
        "# Install scikit-image, zarr, dask, matplotlib, statsmodels, shapely\n",
        "!pip install scikit-image zarr dask matplotlib statsmodels shapely\n",
        "# Install Cellpose\n",
        "!pip install cellpose\n",
        "# Install JonasTools from Test PyPI\n",
        "!pip install --index-url https://test.pypi.org/simple/ JonasTools\n",
        "# Ice Python binding\n",
        "%pip install https://github.com/glencoesoftware/zeroc-ice-py-linux-x86_64/releases/download/20240202/zeroc_ice-3.6.5-cp310-cp310-manylinux_2_28_x86_64.whl\n",
        "# Package required to interact with IDR or OMERO\n",
        "%pip install omero-py==5.19.2"
      ],
      "metadata": {
        "colab": {
          "base_uri": "https://localhost:8080/"
        },
        "collapsed": true,
        "id": "qlt0AciXgm7O",
        "outputId": "55458543-f877-4269-db15-39507f7f2bc9"
      },
      "execution_count": null,
      "outputs": [
        {
          "output_type": "stream",
          "name": "stdout",
          "text": [
            "Requirement already satisfied: scikit-image in /usr/local/lib/python3.10/dist-packages (0.24.0)\n",
            "Requirement already satisfied: zarr in /usr/local/lib/python3.10/dist-packages (2.18.3)\n",
            "Requirement already satisfied: dask in /usr/local/lib/python3.10/dist-packages (2024.8.0)\n",
            "Requirement already satisfied: matplotlib in /usr/local/lib/python3.10/dist-packages (3.7.1)\n",
            "Requirement already satisfied: statsmodels in /usr/local/lib/python3.10/dist-packages (0.14.4)\n",
            "Requirement already satisfied: shapely in /usr/local/lib/python3.10/dist-packages (2.0.6)\n",
            "Requirement already satisfied: numpy>=1.23 in /usr/local/lib/python3.10/dist-packages (from scikit-image) (1.26.4)\n",
            "Requirement already satisfied: scipy>=1.9 in /usr/local/lib/python3.10/dist-packages (from scikit-image) (1.13.1)\n",
            "Requirement already satisfied: networkx>=2.8 in /usr/local/lib/python3.10/dist-packages (from scikit-image) (3.4)\n",
            "Requirement already satisfied: pillow>=9.1 in /usr/local/lib/python3.10/dist-packages (from scikit-image) (10.4.0)\n",
            "Requirement already satisfied: imageio>=2.33 in /usr/local/lib/python3.10/dist-packages (from scikit-image) (2.35.1)\n",
            "Requirement already satisfied: tifffile>=2022.8.12 in /usr/local/lib/python3.10/dist-packages (from scikit-image) (2024.9.20)\n",
            "Requirement already satisfied: packaging>=21 in /usr/local/lib/python3.10/dist-packages (from scikit-image) (24.1)\n",
            "Requirement already satisfied: lazy-loader>=0.4 in /usr/local/lib/python3.10/dist-packages (from scikit-image) (0.4)\n",
            "Requirement already satisfied: asciitree in /usr/local/lib/python3.10/dist-packages (from zarr) (0.3.3)\n",
            "Requirement already satisfied: numcodecs>=0.10.0 in /usr/local/lib/python3.10/dist-packages (from zarr) (0.13.1)\n",
            "Requirement already satisfied: fasteners in /usr/local/lib/python3.10/dist-packages (from zarr) (0.19)\n",
            "Requirement already satisfied: click>=8.1 in /usr/local/lib/python3.10/dist-packages (from dask) (8.1.7)\n",
            "Requirement already satisfied: cloudpickle>=1.5.0 in /usr/local/lib/python3.10/dist-packages (from dask) (2.2.1)\n",
            "Requirement already satisfied: fsspec>=2021.09.0 in /usr/local/lib/python3.10/dist-packages (from dask) (2024.6.1)\n",
            "Requirement already satisfied: partd>=1.4.0 in /usr/local/lib/python3.10/dist-packages (from dask) (1.4.2)\n",
            "Requirement already satisfied: pyyaml>=5.3.1 in /usr/local/lib/python3.10/dist-packages (from dask) (6.0.2)\n",
            "Requirement already satisfied: toolz>=0.10.0 in /usr/local/lib/python3.10/dist-packages (from dask) (0.12.1)\n",
            "Requirement already satisfied: importlib-metadata>=4.13.0 in /usr/local/lib/python3.10/dist-packages (from dask) (8.5.0)\n",
            "Requirement already satisfied: contourpy>=1.0.1 in /usr/local/lib/python3.10/dist-packages (from matplotlib) (1.3.0)\n",
            "Requirement already satisfied: cycler>=0.10 in /usr/local/lib/python3.10/dist-packages (from matplotlib) (0.12.1)\n",
            "Requirement already satisfied: fonttools>=4.22.0 in /usr/local/lib/python3.10/dist-packages (from matplotlib) (4.54.1)\n",
            "Requirement already satisfied: kiwisolver>=1.0.1 in /usr/local/lib/python3.10/dist-packages (from matplotlib) (1.4.7)\n",
            "Requirement already satisfied: pyparsing>=2.3.1 in /usr/local/lib/python3.10/dist-packages (from matplotlib) (3.1.4)\n",
            "Requirement already satisfied: python-dateutil>=2.7 in /usr/local/lib/python3.10/dist-packages (from matplotlib) (2.8.2)\n",
            "Requirement already satisfied: pandas!=2.1.0,>=1.4 in /usr/local/lib/python3.10/dist-packages (from statsmodels) (2.2.2)\n",
            "Requirement already satisfied: patsy>=0.5.6 in /usr/local/lib/python3.10/dist-packages (from statsmodels) (0.5.6)\n",
            "Requirement already satisfied: zipp>=3.20 in /usr/local/lib/python3.10/dist-packages (from importlib-metadata>=4.13.0->dask) (3.20.2)\n",
            "Requirement already satisfied: pytz>=2020.1 in /usr/local/lib/python3.10/dist-packages (from pandas!=2.1.0,>=1.4->statsmodels) (2024.2)\n",
            "Requirement already satisfied: tzdata>=2022.7 in /usr/local/lib/python3.10/dist-packages (from pandas!=2.1.0,>=1.4->statsmodels) (2024.2)\n",
            "Requirement already satisfied: locket in /usr/local/lib/python3.10/dist-packages (from partd>=1.4.0->dask) (1.0.0)\n",
            "Requirement already satisfied: six in /usr/local/lib/python3.10/dist-packages (from patsy>=0.5.6->statsmodels) (1.16.0)\n",
            "Requirement already satisfied: cellpose in /usr/local/lib/python3.10/dist-packages (3.0.11)\n",
            "Requirement already satisfied: numpy<2.0.0,>=1.20.0 in /usr/local/lib/python3.10/dist-packages (from cellpose) (1.26.4)\n",
            "Requirement already satisfied: scipy in /usr/local/lib/python3.10/dist-packages (from cellpose) (1.13.1)\n",
            "Requirement already satisfied: natsort in /usr/local/lib/python3.10/dist-packages (from cellpose) (8.4.0)\n",
            "Requirement already satisfied: tifffile in /usr/local/lib/python3.10/dist-packages (from cellpose) (2024.9.20)\n",
            "Requirement already satisfied: tqdm in /usr/local/lib/python3.10/dist-packages (from cellpose) (4.66.5)\n",
            "Requirement already satisfied: numba>=0.53.0 in /usr/local/lib/python3.10/dist-packages (from cellpose) (0.60.0)\n",
            "Requirement already satisfied: llvmlite in /usr/local/lib/python3.10/dist-packages (from cellpose) (0.43.0)\n",
            "Requirement already satisfied: torch>=1.6 in /usr/local/lib/python3.10/dist-packages (from cellpose) (2.4.1+cu121)\n",
            "Requirement already satisfied: opencv-python-headless in /usr/local/lib/python3.10/dist-packages (from cellpose) (4.10.0.84)\n",
            "Requirement already satisfied: fastremap in /usr/local/lib/python3.10/dist-packages (from cellpose) (1.15.0)\n",
            "Requirement already satisfied: imagecodecs in /usr/local/lib/python3.10/dist-packages (from cellpose) (2024.9.22)\n",
            "Requirement already satisfied: roifile in /usr/local/lib/python3.10/dist-packages (from cellpose) (2024.9.15)\n",
            "Requirement already satisfied: filelock in /usr/local/lib/python3.10/dist-packages (from torch>=1.6->cellpose) (3.16.1)\n",
            "Requirement already satisfied: typing-extensions>=4.8.0 in /usr/local/lib/python3.10/dist-packages (from torch>=1.6->cellpose) (4.12.2)\n",
            "Requirement already satisfied: sympy in /usr/local/lib/python3.10/dist-packages (from torch>=1.6->cellpose) (1.13.3)\n",
            "Requirement already satisfied: networkx in /usr/local/lib/python3.10/dist-packages (from torch>=1.6->cellpose) (3.4)\n",
            "Requirement already satisfied: jinja2 in /usr/local/lib/python3.10/dist-packages (from torch>=1.6->cellpose) (3.1.4)\n",
            "Requirement already satisfied: fsspec in /usr/local/lib/python3.10/dist-packages (from torch>=1.6->cellpose) (2024.6.1)\n",
            "Requirement already satisfied: MarkupSafe>=2.0 in /usr/local/lib/python3.10/dist-packages (from jinja2->torch>=1.6->cellpose) (3.0.1)\n",
            "Requirement already satisfied: mpmath<1.4,>=1.1.0 in /usr/local/lib/python3.10/dist-packages (from sympy->torch>=1.6->cellpose) (1.3.0)\n",
            "Looking in indexes: https://test.pypi.org/simple/\n",
            "Requirement already satisfied: JonasTools in /usr/local/lib/python3.10/dist-packages (0.0.5)\n",
            "Collecting zeroc-ice==3.6.5\n",
            "  Downloading https://github.com/glencoesoftware/zeroc-ice-py-linux-x86_64/releases/download/20240202/zeroc_ice-3.6.5-cp310-cp310-manylinux_2_28_x86_64.whl (37.3 MB)\n",
            "\u001b[2K     \u001b[90m━━━━━━━━━━━━━━━━━━━━━━━━━━━━━━━━━━━━━━━━\u001b[0m \u001b[32m37.3/37.3 MB\u001b[0m \u001b[31m28.4 MB/s\u001b[0m eta \u001b[36m0:00:00\u001b[0m\n",
            "\u001b[?25hRequirement already satisfied: omero-py==5.19.2 in /usr/local/lib/python3.10/dist-packages (5.19.2)\n",
            "Requirement already satisfied: urllib3<2 in /usr/local/lib/python3.10/dist-packages (from omero-py==5.19.2) (1.26.20)\n",
            "Requirement already satisfied: appdirs in /usr/local/lib/python3.10/dist-packages (from omero-py==5.19.2) (1.4.4)\n",
            "Requirement already satisfied: future in /usr/local/lib/python3.10/dist-packages (from omero-py==5.19.2) (1.0.0)\n",
            "Requirement already satisfied: numpy in /usr/local/lib/python3.10/dist-packages (from omero-py==5.19.2) (1.26.4)\n",
            "Requirement already satisfied: Pillow>=10.0.0 in /usr/local/lib/python3.10/dist-packages (from omero-py==5.19.2) (10.4.0)\n",
            "Requirement already satisfied: PyYAML in /usr/local/lib/python3.10/dist-packages (from omero-py==5.19.2) (6.0.2)\n",
            "Requirement already satisfied: zeroc-ice<3.7,>=3.6.5 in /usr/local/lib/python3.10/dist-packages (from omero-py==5.19.2) (3.6.5)\n",
            "Requirement already satisfied: requests in /usr/local/lib/python3.10/dist-packages (from omero-py==5.19.2) (2.32.3)\n",
            "Requirement already satisfied: portalocker in /usr/local/lib/python3.10/dist-packages (from omero-py==5.19.2) (2.10.1)\n",
            "Requirement already satisfied: charset-normalizer<4,>=2 in /usr/local/lib/python3.10/dist-packages (from requests->omero-py==5.19.2) (3.4.0)\n",
            "Requirement already satisfied: idna<4,>=2.5 in /usr/local/lib/python3.10/dist-packages (from requests->omero-py==5.19.2) (3.10)\n",
            "Requirement already satisfied: certifi>=2017.4.17 in /usr/local/lib/python3.10/dist-packages (from requests->omero-py==5.19.2) (2024.8.30)\n"
          ]
        }
      ]
    },
    {
      "cell_type": "code",
      "source": [
        "import sys\n",
        "import os\n",
        "import shutil\n",
        "\n",
        "# Define the directory path in Google Drive\n",
        "repo_dir = '/content/GitDownload'\n",
        "\n",
        "# Check if the directory exists\n",
        "if os.path.exists(repo_dir):\n",
        "    # Remove the directory and all of its contents\n",
        "    shutil.rmtree(repo_dir)\n",
        "    print(f\"Directory '{repo_dir}' deleted.\")\n",
        "\n",
        "# Create the directory\n",
        "os.makedirs(repo_dir)\n",
        "print(f\"Directory '{repo_dir}' created.\")\n",
        "\n",
        "%cd {repo_dir}\n",
        "\n",
        "# Add the repository path to sys.path if not already present\n",
        "if repo_dir not in sys.path:\n",
        "    sys.path.append(repo_dir)\n",
        "    print(f\"Added '{repo_dir}' to Python PATH.\")\n",
        "else:\n",
        "    print(f\"'{repo_dir}' is already in Python PATH.\")\n",
        "\n",
        "# Optional: Verify that the path has been added\n",
        "print(\"\\nCurrent Python PATH:\")\n",
        "for path in sys.path:\n",
        "    print(path)\n",
        "\n",
        "\n",
        "# Clone the repository\n",
        "!git clone https://github.com/J-Franz/CellDetectorPreprocessing.git\n",
        "\n",
        "# Navigate into the cloned repository\n",
        "%cd CellDetectorPreprocessing\n"
      ],
      "metadata": {
        "colab": {
          "base_uri": "https://localhost:8080/"
        },
        "id": "-fBxJNku9_nz",
        "outputId": "79ac4c1a-b957-4b3f-a60e-36cf603b5d9c"
      },
      "execution_count": null,
      "outputs": [
        {
          "output_type": "stream",
          "name": "stdout",
          "text": [
            "Directory '/content/GitDownload' deleted.\n",
            "Directory '/content/GitDownload' created.\n",
            "/content/GitDownload\n",
            "Added '/content/GitDownload' to Python PATH.\n",
            "\n",
            "Current Python PATH:\n",
            "/content\n",
            "/env/python\n",
            "/usr/lib/python310.zip\n",
            "/usr/lib/python3.10\n",
            "/usr/lib/python3.10/lib-dynload\n",
            "\n",
            "/usr/local/lib/python3.10/dist-packages\n",
            "/usr/lib/python3/dist-packages\n",
            "/usr/local/lib/python3.10/dist-packages/IPython/extensions\n",
            "/usr/local/lib/python3.10/dist-packages/setuptools/_vendor\n",
            "/root/.ipython\n",
            "/content/GitDownload\n",
            "Cloning into 'CellDetectorPreprocessing'...\n",
            "remote: Enumerating objects: 451, done.\u001b[K\n",
            "remote: Counting objects: 100% (451/451), done.\u001b[K\n",
            "remote: Compressing objects: 100% (258/258), done.\u001b[K\n",
            "remote: Total 451 (delta 247), reused 356 (delta 158), pack-reused 0 (from 0)\u001b[K\n",
            "Receiving objects: 100% (451/451), 3.29 MiB | 12.16 MiB/s, done.\n",
            "Resolving deltas: 100% (247/247), done.\n",
            "/content/GitDownload/CellDetectorPreprocessing\n"
          ]
        }
      ]
    },
    {
      "cell_type": "code",
      "execution_count": null,
      "metadata": {
        "id": "O--1_C6WweUz"
      },
      "outputs": [],
      "source": [
        "import time\n",
        "\n",
        "import numpy as np\n",
        "from scipy.stats import skew\n",
        "import getpass\n",
        "\n",
        "from Code.Utils.image_tools import get_coordinates, delete_cells_at_border\n",
        "from Code.JonasTools.omero_tools import refresh_omero_session, get_image, get_pixels, get_tile_coordinates, UploadArrayAsTxtToOmero, \\\n",
        "    check_fname_omero, make_omero_file_available\n",
        "from Code.Utils.utils import extract_system_arguments, unpack_parameters\n"
      ]
    },
    {
      "cell_type": "code",
      "source": [
        "\n",
        "# Prompt the user for the OMERO password securely\n",
        "password = getpass.getpass(prompt=\"Enter your OMERO password: \")\n"
      ],
      "metadata": {
        "colab": {
          "base_uri": "https://localhost:8080/"
        },
        "id": "_bd6XKoehwQX",
        "outputId": "bf22e86a-1c6f-405e-ff6c-1b70331ddca6"
      },
      "execution_count": null,
      "outputs": [
        {
          "name": "stdout",
          "output_type": "stream",
          "text": [
            "Enter your OMERO password: ··········\n"
          ]
        }
      ]
    },
    {
      "cell_type": "code",
      "source": [
        "# Define other required arguments\n",
        "image_id = \"266042\"          # Replace with your actual Image ID\n",
        "base = \"AnalysisDirectory/\" # Replace with your specific base parameter\n",
        "gpu = \"True\"                # Set to \"True\" or \"False\" based on your requirement\n",
        "c_fluorescence = \"4\"        # Optional: Replace or omit as needed\n",
        "c_dapi = \"0\"                # Optional: Replace or omit as needed\n"
      ],
      "metadata": {
        "id": "k2hbBCu-wfW0"
      },
      "execution_count": null,
      "outputs": []
    },
    {
      "cell_type": "code",
      "source": [
        "# Construct and execute the command\n",
        "command = f\"\\\"python Code/main_cellpose.py {password} {image_id} {base} {gpu} {c_fluorescence} {c_dapi}\\\"\"\n"
      ],
      "metadata": {
        "id": "ThHZHW7Ym06U"
      },
      "execution_count": null,
      "outputs": []
    },
    {
      "cell_type": "code",
      "source": [
        "# Non root user required to use the omero command line tool\n",
        "# due to security settings in the omero infrastructure\n",
        "# this is typically not the case, thus specific to root\n",
        "# based execution like in CoLabs\n",
        "!sudo adduser --disabled-password --gecos \"\" nonroot\n",
        "!usermod -aG sudo nonroot\n",
        "!chown -R nonroot {repo_dir}\n"
      ],
      "metadata": {
        "colab": {
          "base_uri": "https://localhost:8080/"
        },
        "id": "-oZPm5yPGc-W",
        "outputId": "ad26827a-ff97-4aca-93b9-ab0b693e2b8b"
      },
      "execution_count": null,
      "outputs": [
        {
          "output_type": "stream",
          "name": "stdout",
          "text": [
            "Adding user `nonroot' ...\n",
            "Adding new group `nonroot' (1000) ...\n",
            "Adding new user `nonroot' (1000) with group `nonroot' ...\n",
            "Creating home directory `/home/nonroot' ...\n",
            "Copying files from `/etc/skel' ...\n"
          ]
        }
      ]
    },
    {
      "cell_type": "code",
      "source": [
        "\n",
        "# Execute command\n",
        "!sudo su nonroot -c {command}"
      ],
      "metadata": {
        "id": "zTmFQb2cDoJE",
        "colab": {
          "base_uri": "https://localhost:8080/"
        },
        "outputId": "68886bde-5a1b-4d87-a11b-ccec86715d69"
      },
      "execution_count": null,
      "outputs": [
        {
          "output_type": "stream",
          "name": "stdout",
          "text": [
            "File ID: 819672 266042_Cellpose2AllNucleiCentroidsV2_c4.txt Size: 10407557\n",
            "\n",
            "Downloading file to AnalysisDirectory/CelldetectorPreprocessed/Cellpose/266042_Cellpose2AllNucleiCentroidsV2_c4.txt ...\n",
            "File downloaded!\n",
            "Cell pose coordinates already extracted.\n"
          ]
        }
      ]
    }
  ]
}