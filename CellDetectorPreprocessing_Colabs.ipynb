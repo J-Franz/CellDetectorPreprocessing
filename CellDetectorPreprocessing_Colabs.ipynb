{
  "nbformat": 4,
  "nbformat_minor": 0,
  "metadata": {
    "colab": {
      "provenance": [],
      "gpuType": "T4",
      "authorship_tag": "ABX9TyOWWtjonfl8yZlRzWmnF2IR",
      "include_colab_link": true
    },
    "kernelspec": {
      "name": "python3",
      "display_name": "Python 3"
    },
    "language_info": {
      "name": "python"
    },
    "accelerator": "GPU"
  },
  "cells": [
    {
      "cell_type": "markdown",
      "metadata": {
        "id": "view-in-github",
        "colab_type": "text"
      },
      "source": [
        "<a href=\"https://colab.research.google.com/github/J-Franz/CellDetectorPreprocessing/blob/master/CellDetectorPreprocessing_Colabs.ipynb\" target=\"_parent\"><img src=\"https://colab.research.google.com/assets/colab-badge.svg\" alt=\"Open In Colab\"/></a>"
      ]
    },
    {
      "cell_type": "markdown",
      "source": [
        "# Install missing packages to CoLabs"
      ],
      "metadata": {
        "id": "elXo8Qy6I5vm"
      }
    },
    {
      "cell_type": "code",
      "source": [
        "# Install scikit-image, zarr, dask, matplotlib, statsmodels, shapely\n",
        "!pip install -q scikit-image zarr dask matplotlib statsmodels shapely\n",
        "# Install Cellpose\n",
        "!pip install -q cellpose\n",
        "# Install JonasTools from Test PyPI\n",
        "!pip install -q --index-url https://test.pypi.org/simple/ JonasTools\n",
        "# Ice Python binding\n",
        "%pip install -q https://github.com/glencoesoftware/zeroc-ice-py-linux-x86_64/releases/download/20240202/zeroc_ice-3.6.5-cp310-cp310-manylinux_2_28_x86_64.whl\n",
        "# Package required to interact with IDR or OMERO\n",
        "%pip install -q omero-py==5.19.2"
      ],
      "metadata": {
        "colab": {
          "base_uri": "https://localhost:8080/"
        },
        "collapsed": true,
        "id": "qlt0AciXgm7O",
        "outputId": "da23e5a0-3410-4896-b240-0a9fc650706e"
      },
      "execution_count": 1,
      "outputs": [
        {
          "output_type": "stream",
          "name": "stdout",
          "text": [
            "\u001b[2K     \u001b[90m━━━━━━━━━━━━━━━━━━━━━━━━━━━━━━━━━━━━━━━━\u001b[0m \u001b[32m37.3/37.3 MB\u001b[0m \u001b[31m30.5 MB/s\u001b[0m eta \u001b[36m0:00:00\u001b[0m\n",
            "\u001b[?25h"
          ]
        }
      ]
    },
    {
      "cell_type": "markdown",
      "source": [
        "# Clone into CellDetectorPreprocessing and include to PATH"
      ],
      "metadata": {
        "id": "PDlhHMMOJBDV"
      }
    },
    {
      "cell_type": "code",
      "source": [
        "import sys\n",
        "import os\n",
        "import shutil\n",
        "\n",
        "# Define the directory path in Google Drive\n",
        "repo_dir = '/content/GitDownload'\n",
        "\n",
        "# Check if the directory exists\n",
        "if os.path.exists(repo_dir):\n",
        "    # Remove the directory and all of its contents\n",
        "    shutil.rmtree(repo_dir)\n",
        "    print(f\"Directory '{repo_dir}' deleted.\")\n",
        "\n",
        "# Create the directory\n",
        "os.makedirs(repo_dir)\n",
        "print(f\"Directory '{repo_dir}' created.\")\n",
        "\n",
        "%cd {repo_dir}\n",
        "\n",
        "# Add the repository path to sys.path if not already present\n",
        "if repo_dir not in sys.path:\n",
        "    sys.path.append(repo_dir)\n",
        "    print(f\"Added '{repo_dir}' to Python PATH.\")\n",
        "else:\n",
        "    print(f\"'{repo_dir}' is already in Python PATH.\")\n",
        "\n",
        "\n",
        "\n",
        "\n",
        "# Clone the repository\n",
        "!git clone -q https://github.com/J-Franz/CellDetectorPreprocessing.git\n",
        "\n",
        "# Navigate into the cloned repository\n",
        "%cd CellDetectorPreprocessing\n"
      ],
      "metadata": {
        "colab": {
          "base_uri": "https://localhost:8080/"
        },
        "id": "-fBxJNku9_nz",
        "outputId": "5004db07-aaf0-42fb-e737-a291ee0ab197"
      },
      "execution_count": 3,
      "outputs": [
        {
          "output_type": "stream",
          "name": "stdout",
          "text": [
            "Directory '/content/GitDownload' deleted.\n",
            "Directory '/content/GitDownload' created.\n",
            "/content/GitDownload\n",
            "'/content/GitDownload' is already in Python PATH.\n",
            "/content/GitDownload/CellDetectorPreprocessing\n"
          ]
        }
      ]
    },
    {
      "cell_type": "markdown",
      "source": [
        "# Import all required missing libraries"
      ],
      "metadata": {
        "id": "bsUlr54CJaD_"
      }
    },
    {
      "cell_type": "code",
      "execution_count": null,
      "metadata": {
        "id": "O--1_C6WweUz"
      },
      "outputs": [],
      "source": [
        "import time\n",
        "\n",
        "import numpy as np\n",
        "from scipy.stats import skew\n",
        "import getpass\n",
        "\n",
        "from Code.Utils.image_tools import get_coordinates, delete_cells_at_border\n",
        "from Code.JonasTools.omero_tools import refresh_omero_session, get_image, get_pixels, get_tile_coordinates, UploadArrayAsTxtToOmero, \\\n",
        "    check_fname_omero, make_omero_file_available\n",
        "from Code.Utils.utils import extract_system_arguments, unpack_parameters\n"
      ]
    },
    {
      "cell_type": "markdown",
      "source": [
        "# Prepare login to OMERO"
      ],
      "metadata": {
        "id": "or0KOidAJevG"
      }
    },
    {
      "cell_type": "code",
      "source": [
        "\n",
        "# Prompt the user for the OMERO password securely\n",
        "password = getpass.getpass(prompt=\"Enter your OMERO password: \")\n"
      ],
      "metadata": {
        "colab": {
          "base_uri": "https://localhost:8080/"
        },
        "id": "_bd6XKoehwQX",
        "outputId": "bf22e86a-1c6f-405e-ff6c-1b70331ddca6"
      },
      "execution_count": null,
      "outputs": [
        {
          "name": "stdout",
          "output_type": "stream",
          "text": [
            "Enter your OMERO password: ··········\n"
          ]
        }
      ]
    },
    {
      "cell_type": "code",
      "source": [
        "# Define other required arguments\n",
        "image_id = \"266042\"          # Replace with your actual Image ID\n",
        "base = \"AnalysisDirectory/\" # Replace with your specific base parameter\n",
        "gpu = \"True\"                # Set to \"True\" or \"False\" based on your requirement\n",
        "c_fluorescence = \"4\"        # Optional: Replace or omit as needed\n",
        "c_dapi = \"0\"                # Optional: Replace or omit as needed\n"
      ],
      "metadata": {
        "id": "k2hbBCu-wfW0"
      },
      "execution_count": null,
      "outputs": []
    },
    {
      "cell_type": "markdown",
      "source": [
        "# Run cellpose for nuclei detection"
      ],
      "metadata": {
        "id": "21KyPd1FJkWa"
      }
    },
    {
      "cell_type": "code",
      "source": [
        "# Construct and execute the command\n",
        "command = f\"\\\"python Code/main_cellpose.py {password} {image_id} {base} {gpu} {c_fluorescence} {c_dapi}\\\"\"\n"
      ],
      "metadata": {
        "id": "ThHZHW7Ym06U"
      },
      "execution_count": null,
      "outputs": []
    },
    {
      "cell_type": "code",
      "source": [
        "# Non root user required to use the omero command line tool\n",
        "# due to security settings in the omero infrastructure\n",
        "# this is typically not the case, thus specific to root\n",
        "# based execution like in CoLabs\n",
        "!sudo adduser --disabled-password --gecos \"\" nonroot\n",
        "!usermod -aG sudo nonroot\n",
        "!chown -R nonroot {repo_dir}\n"
      ],
      "metadata": {
        "colab": {
          "base_uri": "https://localhost:8080/"
        },
        "id": "-oZPm5yPGc-W",
        "outputId": "ad26827a-ff97-4aca-93b9-ab0b693e2b8b"
      },
      "execution_count": null,
      "outputs": [
        {
          "output_type": "stream",
          "name": "stdout",
          "text": [
            "Adding user `nonroot' ...\n",
            "Adding new group `nonroot' (1000) ...\n",
            "Adding new user `nonroot' (1000) with group `nonroot' ...\n",
            "Creating home directory `/home/nonroot' ...\n",
            "Copying files from `/etc/skel' ...\n"
          ]
        }
      ]
    },
    {
      "cell_type": "code",
      "source": [
        "\n",
        "# Execute command\n",
        "!sudo su nonroot -c {command}"
      ],
      "metadata": {
        "id": "zTmFQb2cDoJE",
        "colab": {
          "base_uri": "https://localhost:8080/"
        },
        "outputId": "68886bde-5a1b-4d87-a11b-ccec86715d69"
      },
      "execution_count": null,
      "outputs": [
        {
          "output_type": "stream",
          "name": "stdout",
          "text": [
            "File ID: 819672 266042_Cellpose2AllNucleiCentroidsV2_c4.txt Size: 10407557\n",
            "\n",
            "Downloading file to AnalysisDirectory/CelldetectorPreprocessed/Cellpose/266042_Cellpose2AllNucleiCentroidsV2_c4.txt ...\n",
            "File downloaded!\n",
            "Cell pose coordinates already extracted.\n"
          ]
        }
      ]
    }
  ]
}