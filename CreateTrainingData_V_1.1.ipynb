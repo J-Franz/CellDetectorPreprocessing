{
 "cells": [
  {
   "cell_type": "code",
   "execution_count": 1,
   "metadata": {},
   "outputs": [],
   "source": [
    "import numpy as np\n",
    "import matplotlib.pyplot as plt\n",
    "import omero\n",
    "from omero.gateway import BlitzGateway\n",
    "import time\n",
    "from skimage import filters\n",
    "import os\n",
    "\n",
    "from tqdm import tqdm\n",
    "from ipywidgets import Password, Text, ToggleButton, Checkbox, IntSlider\n",
    "from multi_label_pigeon import annotate\n",
    "from skimage.exposure import rescale_intensity\n"
   ]
  },
  {
   "cell_type": "markdown",
   "metadata": {},
   "source": [
    "# Set up connection to OMERO"
   ]
  },
  {
   "cell_type": "code",
   "execution_count": 2,
   "metadata": {},
   "outputs": [],
   "source": [
    "global user\n",
    "global pw\n",
    "user = Text(description='User:', placeholder='Your Omero Login')\n",
    "\n",
    "pw = Password(description='Password:', placeholder='Enter password for login')"
   ]
  },
  {
   "cell_type": "code",
   "execution_count": 3,
   "metadata": {
    "scrolled": true
   },
   "outputs": [
    {
     "data": {
      "application/vnd.jupyter.widget-view+json": {
       "model_id": "0d224b6a53444594a82b8608bffbb4a2",
       "version_major": 2,
       "version_minor": 0
      },
      "text/plain": [
       "Text(value='', description='User:', placeholder='Your Omero Login')"
      ]
     },
     "metadata": {},
     "output_type": "display_data"
    }
   ],
   "source": [
    "user"
   ]
  },
  {
   "cell_type": "code",
   "execution_count": 4,
   "metadata": {},
   "outputs": [
    {
     "data": {
      "application/vnd.jupyter.widget-view+json": {
       "model_id": "232f0a1b3229409f8b168281b9b2f36f",
       "version_major": 2,
       "version_minor": 0
      },
      "text/plain": [
       "Password(description='Password:', placeholder='Enter password for login')"
      ]
     },
     "metadata": {},
     "output_type": "display_data"
    }
   ],
   "source": [
    "pw"
   ]
  },
  {
   "cell_type": "markdown",
   "metadata": {},
   "source": [
    "# Define Functions"
   ]
  },
  {
   "cell_type": "code",
   "execution_count": 5,
   "metadata": {},
   "outputs": [],
   "source": [
    "def refresh_omero_session(conn):\n",
    "    if conn==None:\n",
    "        USERNAME = user.value\n",
    "        PASSWORD = pw.value\n",
    "        HOST = \"134.76.18.202\"\n",
    "        PORT=   4064\n",
    "\n",
    "        c = omero.client(host=HOST, port=4064)\n",
    "        session = c.createSession(USERNAME,PASSWORD)\n",
    "\n",
    "        print(\"Connected.\")\n",
    "        conn = BlitzGateway(USERNAME, PASSWORD,host=HOST, port=PORT)\n",
    "    else:\n",
    "        #if conn.isConnected():\n",
    "            #conn.keep_alive()\n",
    "        \n",
    "        USERNAME = user.value\n",
    "        PASSWORD = pw.value\n",
    "        HOST = \"134.76.18.202\"\n",
    "        PORT=   4064\n",
    "\n",
    "        c = omero.client(host=HOST, port=4064)\n",
    "        session = c.createSession(USERNAME,PASSWORD)\n",
    "\n",
    "        print(\"Connected.\")\n",
    "        conn = BlitzGateway(USERNAME, PASSWORD,host=HOST, port=PORT)\n",
    "    conn.connect()\n",
    "    print(conn.isConnected())\n",
    "    return conn\n"
   ]
  },
  {
   "cell_type": "code",
   "execution_count": 6,
   "metadata": {},
   "outputs": [],
   "source": [
    "def load_data(run_):\n",
    "    width=101\n",
    "    height=101\n",
    "    half_width=int(width/2.)\n",
    "    half_height=int(height/2.)\n",
    "    c_max = 4\n",
    "    list_batch_images= []\n",
    "    list_xy_batch_images =  []\n",
    "    for id_n, id_ in tqdm(enumerate(range(min(batch_size,len(precondition)-run_*batch_size)))):\n",
    "        image = np.zeros((width,height,c_max))\n",
    "        image_id = precondition[id_+run_*batch_size]\n",
    "        for c in range(0,c_max):\n",
    "            image[:,:,c]=pixels.getTile(0,theC=c,theT=0,tile=[x[image_id]-half_width,y[image_id]-half_height,width,height])\n",
    "        list_batch_images.append(image)\n",
    "        list_xy_batch_images.append((id_n,x[image_id],y[image_id]))\n",
    "    return list_batch_images, list_xy_batch_images"
   ]
  },
  {
   "cell_type": "code",
   "execution_count": 7,
   "metadata": {},
   "outputs": [],
   "source": [
    "def show_cell(image):\n",
    "    %matplotlib notebook\n",
    "    log_dapi = np.log(image[:,:,0])\n",
    "    log_dapi[np.isinf(-log_dapi)] = 10**(-14) \n",
    "    dapi = rescale_intensity(log_dapi,out_range=(0, 1.))\n",
    "    ## threshold for display\n",
    "    display_threshold_channel_1 = 2*threshold\n",
    "    display_threshold_channel_3 = 100\n",
    "    fluorescence = rescale_intensity(image[:, :, 1], in_range=(0,display_threshold_channel_1),out_range=(0, 1))\n",
    "    fluorescence_3 = rescale_intensity(image[:, :, 3], in_range=(0,display_threshold_channel_3), out_range=(0, 1))\n",
    "    dapi_rgb = np.dstack((np.zeros_like(dapi), np.zeros_like(dapi), dapi))\n",
    "    fluorescence_rgb = np.dstack((np.zeros_like(dapi), fluorescence, np.zeros_like(dapi)))\n",
    "    fluorescence_2_rgb = np.dstack((fluorescence_3, np.zeros_like(dapi), fluorescence_3))\n",
    "    dapi_fluorescence_rgb = np.dstack((np.zeros_like(dapi), fluorescence, dapi))\n",
    "    fig,(ax) = plt.subplots(2,2)\n",
    "    ax[0][0].imshow(dapi_rgb)#, alpha = 0.5)\n",
    "    ax[0][0].plot(50,50,'wx')\n",
    "    ax[0][1].imshow(fluorescence_rgb)\n",
    "    #,clim=[0,2000])#,alpha = 0.5)\n",
    "    ax[0][1].plot(50,50,'wx')\n",
    "    ax[1][0].imshow(dapi_fluorescence_rgb)\n",
    "    ax[1][1].imshow(fluorescence_2_rgb)\n",
    "    "
   ]
  },
  {
   "cell_type": "markdown",
   "metadata": {},
   "source": [
    "# Set up connection to Omero and load pointer to the image"
   ]
  },
  {
   "cell_type": "code",
   "execution_count": 8,
   "metadata": {},
   "outputs": [
    {
     "name": "stdout",
     "output_type": "stream",
     "text": [
      "Connected.\n",
      "True\n",
      "Switched Group to Group of image:  203\n"
     ]
    },
    {
     "data": {
      "text/plain": [
       "<_PixelsWrapper id=1980>"
      ]
     },
     "execution_count": 8,
     "metadata": {},
     "output_type": "execute_result"
    }
   ],
   "source": [
    "try: conn\n",
    "except NameError: conn = None\n",
    "conn = refresh_omero_session(conn)\n",
    "\n",
    "## Image you want to analyse ##########\n",
    "imageId = 1980\n",
    "################################\n",
    "\n",
    "conn.SERVICE_OPTS.setOmeroGroup('-1')\n",
    "image = conn.getObject(\"Image\", imageId)\n",
    "group_id = image.getDetails().getGroup().getId()\n",
    "print(\"Switched Group to Group of image: \", group_id)\n",
    "conn.setGroupForSession(group_id)\n",
    "pixels = image.getPrimaryPixels()\n",
    "size_x = image.getSizeX()\n",
    "size_y = image.getSizeY()\n",
    "global input_range\n",
    "input_range= image.getPixelRange()\n",
    "pixels"
   ]
  },
  {
   "cell_type": "markdown",
   "metadata": {},
   "source": [
    "# Monte Carlo Sampling of staining intensity"
   ]
  },
  {
   "cell_type": "markdown",
   "metadata": {},
   "source": [
    "define fluorescence channel of interest. At the moment I did not test if it works with a channel different than 1\n",
    "\n"
   ]
  },
  {
   "cell_type": "code",
   "execution_count": 9,
   "metadata": {},
   "outputs": [],
   "source": [
    "channel_of_interest = 1"
   ]
  },
  {
   "cell_type": "code",
   "execution_count": 10,
   "metadata": {},
   "outputs": [],
   "source": [
    "size_crop = 100\n",
    "n_of_monte_carlo_image = 5\n",
    "np.random.seed(10)\n",
    "rand_x = np.random.randint(size_crop,size_x-size_crop,n_of_monte_carlo_image)\n",
    "rand_y = np.random.randint(size_crop,size_y-size_crop,n_of_monte_carlo_image)"
   ]
  },
  {
   "cell_type": "code",
   "execution_count": 11,
   "metadata": {},
   "outputs": [
    {
     "name": "stderr",
     "output_type": "stream",
     "text": [
      "100%|██████████| 5/5 [00:01<00:00,  3.82it/s]\n"
     ]
    }
   ],
   "source": [
    "pixels_list = []\n",
    "for id_ in tqdm(np.arange(len(rand_x))):\n",
    "    pixels_list.append(pixels.getTile(0,theC=channel_of_interest,theT=0,tile=[rand_x[id_],rand_y[id_],size_crop,size_crop]))\n",
    "    \n",
    "pixels_list = np.squeeze(np.array(pixels_list))"
   ]
  },
  {
   "cell_type": "code",
   "execution_count": 12,
   "metadata": {},
   "outputs": [],
   "source": [
    "global th_multi_otsu\n",
    "th_multi_otsu= filters.threshold_multiotsu(pixels_list.flatten())"
   ]
  },
  {
   "cell_type": "code",
   "execution_count": 13,
   "metadata": {},
   "outputs": [
    {
     "name": "stdout",
     "output_type": "stream",
     "text": [
      "The calculated otsu multi threshold is: [ 91 151]\n"
     ]
    },
    {
     "data": {
      "image/png": "[encoded data removed]",
      "text/plain": [
       "<Figure size 432x288 with 1 Axes>"
      ]
     },
     "metadata": {
      "needs_background": "light"
     },
     "output_type": "display_data"
    }
   ],
   "source": [
    "binspace = np.linspace(0,10000,1000)\n",
    "plt.figure()\n",
    "plt.hist(pixels_list.flatten(),cumulative=True,density=True,histtype='step', bins = binspace)\n",
    "plt.vlines(th_multi_otsu[1],0,1)\n",
    "plt.semilogx()\n",
    "plt.semilogy()\n",
    "plt.xlabel(\"Intensity of pixels\")\n",
    "plt.ylabel(\"CDF - density\")\n",
    "print(\"The calculated otsu multi threshold is: \" + str(th_multi_otsu))"
   ]
  },
  {
   "cell_type": "markdown",
   "metadata": {},
   "source": [
    "# Load centroids of nuclei"
   ]
  },
  {
   "cell_type": "code",
   "execution_count": 14,
   "metadata": {},
   "outputs": [
    {
     "name": "stderr",
     "output_type": "stream",
     "text": [
      "100%|██████████| 123296/123296 [00:00<00:00, 683169.55it/s]\n"
     ]
    }
   ],
   "source": [
    "cods = np.loadtxt(str(imageId)+\"_CellposeAllNucleiCentroids.txt\",delimiter=\",\")\n",
    "x = []\n",
    "y= []\n",
    "mean = []\n",
    "median = []\n",
    "var = []\n",
    "skew = []\n",
    "for p in tqdm(cods):\n",
    "    x.append(p[0])\n",
    "    y.append(p[1])\n",
    "    mean.append(p[2])\n",
    "    median.append(p[3])\n",
    "    var.append(p[4])\n",
    "    skew.append(p[5])\n",
    "x = np.array(x)\n",
    "y = np.array(y)\n",
    "mean = np.array(mean)\n",
    "median = np.array(median)\n",
    "var = np.array(var)\n",
    "skew = np.array(skew)"
   ]
  },
  {
   "cell_type": "code",
   "execution_count": 15,
   "metadata": {},
   "outputs": [],
   "source": [
    "width=101\n",
    "height=101\n",
    "half_width=int(width/2.)\n",
    "half_height=int(height/2.)\n",
    "c_max = 4"
   ]
  },
  {
   "cell_type": "markdown",
   "metadata": {},
   "source": [
    "# Select subset for training"
   ]
  },
  {
   "cell_type": "code",
   "execution_count": 17,
   "metadata": {},
   "outputs": [
    {
     "name": "stdout",
     "output_type": "stream",
     "text": [
      "Your precondition requires you to label:819 cells.\n",
      "Your threshold is: 200\n"
     ]
    },
    {
     "name": "stderr",
     "output_type": "stream",
     "text": [
      "/share/Work/Coding/CondaEnv37/lib/python3.7/site-packages/ipykernel_launcher.py:9: RuntimeWarning: invalid value encountered in greater\n",
      "  if __name__ == '__main__':\n"
     ]
    }
   ],
   "source": [
    "# parameters you can vary\n",
    "batch_size=50\n",
    "\n",
    "## select subset for annotation\n",
    "# CHECK THRESHOLD ON Image\n",
    "# the threshold is:\n",
    "global threshold\n",
    "threshold = 200 # int(2*np.nanmedian(mean))    #nanmean austauschen gegen nanmedian th_multi_otsu[1] # or number or ...\n",
    "condition = mean>threshold\n",
    "# create list of ids of subimages to load\n",
    "global precondition\n",
    "list_images=np.arange(len(x))\n",
    "precondition = list_images[condition]\n",
    "fname= str(imageId)+\"_training_results_Threshold_\"+str(threshold)+\".npy\" ### TODO Threshold File\n",
    "print(\"Your precondition requires you to label:\" + str(np.sum(condition)) + \" cells.\")\n",
    "print(\"Your threshold is: \" + str(threshold))"
   ]
  },
  {
   "cell_type": "code",
   "execution_count": 18,
   "metadata": {},
   "outputs": [
    {
     "name": "stdout",
     "output_type": "stream",
     "text": [
      "While this box is checked, you will try to load an existing dataset. \n",
      "       - uncheck if you process a dataset for the first time\n"
     ]
    },
    {
     "data": {
      "application/vnd.jupyter.widget-view+json": {
       "model_id": "6e9b4eeb69124bb48d6fa181b56e5746",
       "version_major": 2,
       "version_minor": 0
      },
      "text/plain": [
       "Checkbox(value=True, description='Load existing dataset')"
      ]
     },
     "metadata": {},
     "output_type": "display_data"
    }
   ],
   "source": [
    "Load = Checkbox(value=True,description=\"Load existing dataset\")\n",
    "print(\"While this box is checked, you will try to load an existing dataset. \\n \\\n",
    "      - uncheck if you process a dataset for the first time\")\n",
    "Load"
   ]
  },
  {
   "cell_type": "code",
   "execution_count": 20,
   "metadata": {},
   "outputs": [],
   "source": [
    "if Load.value == False:\n",
    "    complete_results = np.ones((2,len(precondition)))*np.nan\n",
    "else:\n",
    "    complete_results = np.load(fname)\n",
    "n_runs = int(len(precondition)/batch_size)+1"
   ]
  },
  {
   "cell_type": "code",
   "execution_count": 21,
   "metadata": {},
   "outputs": [
    {
     "name": "stdout",
     "output_type": "stream",
     "text": [
      "You have to process run_ 0 till 16.\n",
      "You just started.\n",
      "Your current run number: 16\n"
     ]
    }
   ],
   "source": [
    "print(\"You have to process run_ 0 till \"+ str(n_runs-1)+\".\")\n",
    "try:\n",
    "    for label_id, label_ in enumerate(labeled_data):\n",
    "        complete_results[0][label_id+run_*batch_size] = precondition[label_id+run_*batch_size]\n",
    "        complete_results[1][label_id+run_*batch_size] = label_[1]\n",
    "    print(\"So far you labeled: \"+ str(np.sum(np.isnan(complete_results[0])!=1)))\n",
    "    if autosave:\n",
    "        np.save(fname,complete_results)\n",
    "        print(\"Labels are saved under \" + fname)\n",
    "except:\n",
    "    print(\"You just started.\")\n",
    "run_ = 16\n",
    "print(\"Your current run number: \" + str(run_))"
   ]
  },
  {
   "cell_type": "code",
   "execution_count": 22,
   "metadata": {},
   "outputs": [
    {
     "name": "stdout",
     "output_type": "stream",
     "text": [
      "While this box is checked, your data are saved after every batch round.\n"
     ]
    },
    {
     "data": {
      "application/vnd.jupyter.widget-view+json": {
       "model_id": "f4ba14d7d13a4ae79971b28557cf91c1",
       "version_major": 2,
       "version_minor": 0
      },
      "text/plain": [
       "Checkbox(value=True, description='Autosave')"
      ]
     },
     "metadata": {},
     "output_type": "display_data"
    }
   ],
   "source": [
    "autosave = Checkbox(value=True,description=\"Autosave\")\n",
    "print(\"While this box is checked, your data are saved after every batch round.\")\n",
    "autosave"
   ]
  },
  {
   "cell_type": "code",
   "execution_count": 23,
   "metadata": {
    "scrolled": false
   },
   "outputs": [
    {
     "name": "stdout",
     "output_type": "stream",
     "text": [
      "Connected.\n"
     ]
    },
    {
     "name": "stderr",
     "output_type": "stream",
     "text": [
      "\r",
      "0it [00:00, ?it/s]"
     ]
    },
    {
     "name": "stdout",
     "output_type": "stream",
     "text": [
      "True\n"
     ]
    },
    {
     "name": "stderr",
     "output_type": "stream",
     "text": [
      "19it [00:13,  1.46it/s]"
     ]
    },
    {
     "name": "stdout",
     "output_type": "stream",
     "text": [
      "[(0, 23292.0, 27579.0), (1, 23622.0, 27604.0), (2, 23725.0, 27602.0), (3, 23184.0, 27634.0), (4, 23299.0, 28700.0), (5, 23306.0, 28754.0), (6, 23257.0, 28769.0), (7, 23336.0, 28783.0), (8, 23300.0, 28795.0), (9, 23116.0, 28804.0), (10, 23217.0, 28824.0), (11, 23177.0, 28825.0), (12, 23278.0, 28855.0), (13, 23335.0, 28860.0), (14, 23145.0, 28869.0), (15, 23208.0, 28890.0), (16, 23091.0, 28902.0), (17, 23233.0, 28910.0), (18, 22851.0, 28926.0)]\n"
     ]
    },
    {
     "name": "stderr",
     "output_type": "stream",
     "text": [
      "\n"
     ]
    },
    {
     "data": {
      "application/vnd.jupyter.widget-view+json": {
       "model_id": "c050fedc568c4ba4ba13c8614ee0a067",
       "version_major": 2,
       "version_minor": 0
      },
      "text/plain": [
       "HTML(value='0 examples annotated, 20 examples left')"
      ]
     },
     "metadata": {},
     "output_type": "display_data"
    },
    {
     "data": {
      "application/vnd.jupyter.widget-view+json": {
       "model_id": "24f0a143ee794176acc4c87360339396",
       "version_major": 2,
       "version_minor": 0
      },
      "text/plain": [
       "HBox(children=(Button(description='0', style=ButtonStyle()), Button(description='1', style=ButtonStyle()), But…"
      ]
     },
     "metadata": {},
     "output_type": "display_data"
    },
    {
     "data": {
      "application/vnd.jupyter.widget-view+json": {
       "model_id": "36ed74e99bb34bd2aca4dfc743e39817",
       "version_major": 2,
       "version_minor": 0
      },
      "text/plain": [
       "Output()"
      ]
     },
     "metadata": {},
     "output_type": "display_data"
    }
   ],
   "source": [
    "# automatically refresh before downloading\n",
    "try: conn\n",
    "except NameError: conn = None\n",
    "conn = refresh_omero_session(conn)\n",
    "conn.setGroupForSession(group_id)\n",
    "image = conn.getObject(\"Image\", imageId)\n",
    "pixels = image.getPrimaryPixels()\n",
    "\n",
    "# label data\n",
    "list_batch_images,list_xy_batch_images = load_data(run_)\n",
    "print(list_xy_batch_images)\n",
    "%matplotlib notebook\n",
    "labeled_data = annotate(list_batch_images,[\"0\",\"1\"],display_fn=lambda image: show_cell(image))\n",
    "\n"
   ]
  },
  {
   "cell_type": "code",
   "execution_count": 32,
   "metadata": {},
   "outputs": [
    {
     "name": "stdout",
     "output_type": "stream",
     "text": [
      "Labels are saved under 1980_training_results_Threshold_200.npy\n"
     ]
    }
   ],
   "source": [
    "# save data\n",
    "if autosave:\n",
    "    for label_id, label_ in enumerate(labeled_data):\n",
    "        complete_results[0][label_id+run_*batch_size] = precondition[label_id+run_*batch_size]\n",
    "        complete_results[1][label_id+run_*batch_size] = label_[1]\n",
    "    np.save(fname,complete_results)\n",
    "    print(\"Labels are saved under \" + fname)\n"
   ]
  },
  {
   "cell_type": "code",
   "execution_count": 43,
   "metadata": {},
   "outputs": [
    {
     "name": "stdout",
     "output_type": "stream",
     "text": [
      "If this box is checked, you can manually save your data as well.\n"
     ]
    },
    {
     "data": {
      "application/vnd.jupyter.widget-view+json": {
       "model_id": "506dc605e82d44a4bb7118a18c6da3e2",
       "version_major": 2,
       "version_minor": 0
      },
      "text/plain": [
       "Checkbox(value=False, description='Explicit save')"
      ]
     },
     "metadata": {},
     "output_type": "display_data"
    }
   ],
   "source": [
    "SAVE_BOOL = Checkbox(value=False,description=\"Explicit save\")\n",
    "print(\"If this box is checked, you can manually save your data as well.\")\n",
    "SAVE_BOOL"
   ]
  },
  {
   "cell_type": "code",
   "execution_count": 44,
   "metadata": {},
   "outputs": [],
   "source": [
    "if SAVE_BOOL.value:\n",
    "    np.save(fname,complete_results)\n"
   ]
  },
  {
   "cell_type": "code",
   "execution_count": 34,
   "metadata": {},
   "outputs": [
    {
     "data": {
      "application/javascript": [
       "/* Put everything inside the global mpl namespace */\n",
       "window.mpl = {};\n",
       "\n",
       "\n",
       "mpl.get_websocket_type = function() {\n",
       "    if (typeof(WebSocket) !== 'undefined') {\n",
       "        return WebSocket;\n",
       "    } else if (typeof(MozWebSocket) !== 'undefined') {\n",
       "        return MozWebSocket;\n",
       "    } else {\n",
       "        alert('Your browser does not have WebSocket support. ' +\n",
       "              'Please try Chrome, Safari or Firefox ≥ 6. ' +\n",
       "              'Firefox 4 and 5 are also supported but you ' +\n",
       "              'have to enable WebSockets in about:config.');\n",
       "    };\n",
       "}\n",
       "\n",
       "mpl.figure = function(figure_id, websocket, ondownload, parent_element) {\n",
       "    this.id = figure_id;\n",
       "\n",
       "    this.ws = websocket;\n",
       "\n",
       "    this.supports_binary = (this.ws.binaryType != undefined);\n",
       "\n",
       "    if (!this.supports_binary) {\n",
       "        var warnings = document.getElementById(\"mpl-warnings\");\n",
       "        if (warnings) {\n",
       "            warnings.style.display = 'block';\n",
       "            warnings.textContent = (\n",
       "                \"This browser does not support binary websocket messages. \" +\n",
       "                    \"Performance may be slow.\");\n",
       "        }\n",
       "    }\n",
       "\n",
       "    this.imageObj = new Image();\n",
       "\n",
       "    this.context = undefined;\n",
       "    this.message = undefined;\n",
       "    this.canvas = undefined;\n",
       "    this.rubberband_canvas = undefined;\n",
       "    this.rubberband_context = undefined;\n",
       "    this.format_dropdown = undefined;\n",
       "\n",
       "    this.image_mode = 'full';\n",
       "\n",
       "    this.root = $('<div/>');\n",
       "    this._root_extra_style(this.root)\n",
       "    this.root.attr('style', 'display: inline-block');\n",
       "\n",
       "    $(parent_element).append(this.root);\n",
       "\n",
       "    this._init_header(this);\n",
       "    this._init_canvas(this);\n",
       "    this._init_toolbar(this);\n",
       "\n",
       "    var fig = this;\n",
       "\n",
       "    this.waiting = false;\n",
       "\n",
       "    this.ws.onopen =  function () {\n",
       "            fig.send_message(\"supports_binary\", {value: fig.supports_binary});\n",
       "            fig.send_message(\"send_image_mode\", {});\n",
       "            if (mpl.ratio != 1) {\n",
       "                fig.send_message(\"set_dpi_ratio\", {'dpi_ratio': mpl.ratio});\n",
       "            }\n",
       "            fig.send_message(\"refresh\", {});\n",
       "        }\n",
       "\n",
       "    this.imageObj.onload = function() {\n",
       "            if (fig.image_mode == 'full') {\n",
       "                // Full images could contain transparency (where diff images\n",
       "                // almost always do), so we need to clear the canvas so that\n",
       "                // there is no ghosting.\n",
       "                fig.context.clearRect(0, 0, fig.canvas.width, fig.canvas.height);\n",
       "            }\n",
       "            fig.context.drawImage(fig.imageObj, 0, 0);\n",
       "        };\n",
       "\n",
       "    this.imageObj.onunload = function() {\n",
       "        fig.ws.close();\n",
       "    }\n",
       "\n",
       "    this.ws.onmessage = this._make_on_message_function(this);\n",
       "\n",
       "    this.ondownload = ondownload;\n",
       "}\n",
       "\n",
       "mpl.figure.prototype._init_header = function() {\n",
       "    var titlebar = $(\n",
       "        '<div class=\"ui-dialog-titlebar ui-widget-header ui-corner-all ' +\n",
       "        'ui-helper-clearfix\"/>');\n",
       "    var titletext = $(\n",
       "        '<div class=\"ui-dialog-title\" style=\"width: 100%; ' +\n",
       "        'text-align: center; padding: 3px;\"/>');\n",
       "    titlebar.append(titletext)\n",
       "    this.root.append(titlebar);\n",
       "    this.header = titletext[0];\n",
       "}\n",
       "\n",
       "\n",
       "\n",
       "mpl.figure.prototype._canvas_extra_style = function(canvas_div) {\n",
       "\n",
       "}\n",
       "\n",
       "\n",
       "mpl.figure.prototype._root_extra_style = function(canvas_div) {\n",
       "\n",
       "}\n",
       "\n",
       "mpl.figure.prototype._init_canvas = function() {\n",
       "    var fig = this;\n",
       "\n",
       "    var canvas_div = $('<div/>');\n",
       "\n",
       "    canvas_div.attr('style', 'position: relative; clear: both; outline: 0');\n",
       "\n",
       "    function canvas_keyboard_event(event) {\n",
       "        return fig.key_event(event, event['data']);\n",
       "    }\n",
       "\n",
       "    canvas_div.keydown('key_press', canvas_keyboard_event);\n",
       "    canvas_div.keyup('key_release', canvas_keyboard_event);\n",
       "    this.canvas_div = canvas_div\n",
       "    this._canvas_extra_style(canvas_div)\n",
       "    this.root.append(canvas_div);\n",
       "\n",
       "    var canvas = $('<canvas/>');\n",
       "    canvas.addClass('mpl-canvas');\n",
       "    canvas.attr('style', \"left: 0; top: 0; z-index: 0; outline: 0\")\n",
       "\n",
       "    this.canvas = canvas[0];\n",
       "    this.context = canvas[0].getContext(\"2d\");\n",
       "\n",
       "    var backingStore = this.context.backingStorePixelRatio ||\n",
       "\tthis.context.webkitBackingStorePixelRatio ||\n",
       "\tthis.context.mozBackingStorePixelRatio ||\n",
       "\tthis.context.msBackingStorePixelRatio ||\n",
       "\tthis.context.oBackingStorePixelRatio ||\n",
       "\tthis.context.backingStorePixelRatio || 1;\n",
       "\n",
       "    mpl.ratio = (window.devicePixelRatio || 1) / backingStore;\n",
       "\n",
       "    var rubberband = $('<canvas/>');\n",
       "    rubberband.attr('style', \"position: absolute; left: 0; top: 0; z-index: 1;\")\n",
       "\n",
       "    var pass_mouse_events = true;\n",
       "\n",
       "    canvas_div.resizable({\n",
       "        start: function(event, ui) {\n",
       "            pass_mouse_events = false;\n",
       "        },\n",
       "        resize: function(event, ui) {\n",
       "            fig.request_resize(ui.size.width, ui.size.height);\n",
       "        },\n",
       "        stop: function(event, ui) {\n",
       "            pass_mouse_events = true;\n",
       "            fig.request_resize(ui.size.width, ui.size.height);\n",
       "        },\n",
       "    });\n",
       "\n",
       "    function mouse_event_fn(event) {\n",
       "        if (pass_mouse_events)\n",
       "            return fig.mouse_event(event, event['data']);\n",
       "    }\n",
       "\n",
       "    rubberband.mousedown('button_press', mouse_event_fn);\n",
       "    rubberband.mouseup('button_release', mouse_event_fn);\n",
       "    // Throttle sequential mouse events to 1 every 20ms.\n",
       "    rubberband.mousemove('motion_notify', mouse_event_fn);\n",
       "\n",
       "    rubberband.mouseenter('figure_enter', mouse_event_fn);\n",
       "    rubberband.mouseleave('figure_leave', mouse_event_fn);\n",
       "\n",
       "    canvas_div.on(\"wheel\", function (event) {\n",
       "        event = event.originalEvent;\n",
       "        event['data'] = 'scroll'\n",
       "        if (event.deltaY < 0) {\n",
       "            event.step = 1;\n",
       "        } else {\n",
       "            event.step = -1;\n",
       "        }\n",
       "        mouse_event_fn(event);\n",
       "    });\n",
       "\n",
       "    canvas_div.append(canvas);\n",
       "    canvas_div.append(rubberband);\n",
       "\n",
       "    this.rubberband = rubberband;\n",
       "    this.rubberband_canvas = rubberband[0];\n",
       "    this.rubberband_context = rubberband[0].getContext(\"2d\");\n",
       "    this.rubberband_context.strokeStyle = \"#000000\";\n",
       "\n",
       "    this._resize_canvas = function(width, height) {\n",
       "        // Keep the size of the canvas, canvas container, and rubber band\n",
       "        // canvas in synch.\n",
       "        canvas_div.css('width', width)\n",
       "        canvas_div.css('height', height)\n",
       "\n",
       "        canvas.attr('width', width * mpl.ratio);\n",
       "        canvas.attr('height', height * mpl.ratio);\n",
       "        canvas.attr('style', 'width: ' + width + 'px; height: ' + height + 'px;');\n",
       "\n",
       "        rubberband.attr('width', width);\n",
       "        rubberband.attr('height', height);\n",
       "    }\n",
       "\n",
       "    // Set the figure to an initial 600x600px, this will subsequently be updated\n",
       "    // upon first draw.\n",
       "    this._resize_canvas(600, 600);\n",
       "\n",
       "    // Disable right mouse context menu.\n",
       "    $(this.rubberband_canvas).bind(\"contextmenu\",function(e){\n",
       "        return false;\n",
       "    });\n",
       "\n",
       "    function set_focus () {\n",
       "        canvas.focus();\n",
       "        canvas_div.focus();\n",
       "    }\n",
       "\n",
       "    window.setTimeout(set_focus, 100);\n",
       "}\n",
       "\n",
       "mpl.figure.prototype._init_toolbar = function() {\n",
       "    var fig = this;\n",
       "\n",
       "    var nav_element = $('<div/>');\n",
       "    nav_element.attr('style', 'width: 100%');\n",
       "    this.root.append(nav_element);\n",
       "\n",
       "    // Define a callback function for later on.\n",
       "    function toolbar_event(event) {\n",
       "        return fig.toolbar_button_onclick(event['data']);\n",
       "    }\n",
       "    function toolbar_mouse_event(event) {\n",
       "        return fig.toolbar_button_onmouseover(event['data']);\n",
       "    }\n",
       "\n",
       "    for(var toolbar_ind in mpl.toolbar_items) {\n",
       "        var name = mpl.toolbar_items[toolbar_ind][0];\n",
       "        var tooltip = mpl.toolbar_items[toolbar_ind][1];\n",
       "        var image = mpl.toolbar_items[toolbar_ind][2];\n",
       "        var method_name = mpl.toolbar_items[toolbar_ind][3];\n",
       "\n",
       "        if (!name) {\n",
       "            // put a spacer in here.\n",
       "            continue;\n",
       "        }\n",
       "        var button = $('<button/>');\n",
       "        button.addClass('ui-button ui-widget ui-state-default ui-corner-all ' +\n",
       "                        'ui-button-icon-only');\n",
       "        button.attr('role', 'button');\n",
       "        button.attr('aria-disabled', 'false');\n",
       "        button.click(method_name, toolbar_event);\n",
       "        button.mouseover(tooltip, toolbar_mouse_event);\n",
       "\n",
       "        var icon_img = $('<span/>');\n",
       "        icon_img.addClass('ui-button-icon-primary ui-icon');\n",
       "        icon_img.addClass(image);\n",
       "        icon_img.addClass('ui-corner-all');\n",
       "\n",
       "        var tooltip_span = $('<span/>');\n",
       "        tooltip_span.addClass('ui-button-text');\n",
       "        tooltip_span.html(tooltip);\n",
       "\n",
       "        button.append(icon_img);\n",
       "        button.append(tooltip_span);\n",
       "\n",
       "        nav_element.append(button);\n",
       "    }\n",
       "\n",
       "    var fmt_picker_span = $('<span/>');\n",
       "\n",
       "    var fmt_picker = $('<select/>');\n",
       "    fmt_picker.addClass('mpl-toolbar-option ui-widget ui-widget-content');\n",
       "    fmt_picker_span.append(fmt_picker);\n",
       "    nav_element.append(fmt_picker_span);\n",
       "    this.format_dropdown = fmt_picker[0];\n",
       "\n",
       "    for (var ind in mpl.extensions) {\n",
       "        var fmt = mpl.extensions[ind];\n",
       "        var option = $(\n",
       "            '<option/>', {selected: fmt === mpl.default_extension}).html(fmt);\n",
       "        fmt_picker.append(option);\n",
       "    }\n",
       "\n",
       "    // Add hover states to the ui-buttons\n",
       "    $( \".ui-button\" ).hover(\n",
       "        function() { $(this).addClass(\"ui-state-hover\");},\n",
       "        function() { $(this).removeClass(\"ui-state-hover\");}\n",
       "    );\n",
       "\n",
       "    var status_bar = $('<span class=\"mpl-message\"/>');\n",
       "    nav_element.append(status_bar);\n",
       "    this.message = status_bar[0];\n",
       "}\n",
       "\n",
       "mpl.figure.prototype.request_resize = function(x_pixels, y_pixels) {\n",
       "    // Request matplotlib to resize the figure. Matplotlib will then trigger a resize in the client,\n",
       "    // which will in turn request a refresh of the image.\n",
       "    this.send_message('resize', {'width': x_pixels, 'height': y_pixels});\n",
       "}\n",
       "\n",
       "mpl.figure.prototype.send_message = function(type, properties) {\n",
       "    properties['type'] = type;\n",
       "    properties['figure_id'] = this.id;\n",
       "    this.ws.send(JSON.stringify(properties));\n",
       "}\n",
       "\n",
       "mpl.figure.prototype.send_draw_message = function() {\n",
       "    if (!this.waiting) {\n",
       "        this.waiting = true;\n",
       "        this.ws.send(JSON.stringify({type: \"draw\", figure_id: this.id}));\n",
       "    }\n",
       "}\n",
       "\n",
       "\n",
       "mpl.figure.prototype.handle_save = function(fig, msg) {\n",
       "    var format_dropdown = fig.format_dropdown;\n",
       "    var format = format_dropdown.options[format_dropdown.selectedIndex].value;\n",
       "    fig.ondownload(fig, format);\n",
       "}\n",
       "\n",
       "\n",
       "mpl.figure.prototype.handle_resize = function(fig, msg) {\n",
       "    var size = msg['size'];\n",
       "    if (size[0] != fig.canvas.width || size[1] != fig.canvas.height) {\n",
       "        fig._resize_canvas(size[0], size[1]);\n",
       "        fig.send_message(\"refresh\", {});\n",
       "    };\n",
       "}\n",
       "\n",
       "mpl.figure.prototype.handle_rubberband = function(fig, msg) {\n",
       "    var x0 = msg['x0'] / mpl.ratio;\n",
       "    var y0 = (fig.canvas.height - msg['y0']) / mpl.ratio;\n",
       "    var x1 = msg['x1'] / mpl.ratio;\n",
       "    var y1 = (fig.canvas.height - msg['y1']) / mpl.ratio;\n",
       "    x0 = Math.floor(x0) + 0.5;\n",
       "    y0 = Math.floor(y0) + 0.5;\n",
       "    x1 = Math.floor(x1) + 0.5;\n",
       "    y1 = Math.floor(y1) + 0.5;\n",
       "    var min_x = Math.min(x0, x1);\n",
       "    var min_y = Math.min(y0, y1);\n",
       "    var width = Math.abs(x1 - x0);\n",
       "    var height = Math.abs(y1 - y0);\n",
       "\n",
       "    fig.rubberband_context.clearRect(\n",
       "        0, 0, fig.canvas.width / mpl.ratio, fig.canvas.height / mpl.ratio);\n",
       "\n",
       "    fig.rubberband_context.strokeRect(min_x, min_y, width, height);\n",
       "}\n",
       "\n",
       "mpl.figure.prototype.handle_figure_label = function(fig, msg) {\n",
       "    // Updates the figure title.\n",
       "    fig.header.textContent = msg['label'];\n",
       "}\n",
       "\n",
       "mpl.figure.prototype.handle_cursor = function(fig, msg) {\n",
       "    var cursor = msg['cursor'];\n",
       "    switch(cursor)\n",
       "    {\n",
       "    case 0:\n",
       "        cursor = 'pointer';\n",
       "        break;\n",
       "    case 1:\n",
       "        cursor = 'default';\n",
       "        break;\n",
       "    case 2:\n",
       "        cursor = 'crosshair';\n",
       "        break;\n",
       "    case 3:\n",
       "        cursor = 'move';\n",
       "        break;\n",
       "    }\n",
       "    fig.rubberband_canvas.style.cursor = cursor;\n",
       "}\n",
       "\n",
       "mpl.figure.prototype.handle_message = function(fig, msg) {\n",
       "    fig.message.textContent = msg['message'];\n",
       "}\n",
       "\n",
       "mpl.figure.prototype.handle_draw = function(fig, msg) {\n",
       "    // Request the server to send over a new figure.\n",
       "    fig.send_draw_message();\n",
       "}\n",
       "\n",
       "mpl.figure.prototype.handle_image_mode = function(fig, msg) {\n",
       "    fig.image_mode = msg['mode'];\n",
       "}\n",
       "\n",
       "mpl.figure.prototype.updated_canvas_event = function() {\n",
       "    // Called whenever the canvas gets updated.\n",
       "    this.send_message(\"ack\", {});\n",
       "}\n",
       "\n",
       "// A function to construct a web socket function for onmessage handling.\n",
       "// Called in the figure constructor.\n",
       "mpl.figure.prototype._make_on_message_function = function(fig) {\n",
       "    return function socket_on_message(evt) {\n",
       "        if (evt.data instanceof Blob) {\n",
       "            /* FIXME: We get \"Resource interpreted as Image but\n",
       "             * transferred with MIME type text/plain:\" errors on\n",
       "             * Chrome.  But how to set the MIME type?  It doesn't seem\n",
       "             * to be part of the websocket stream */\n",
       "            evt.data.type = \"image/png\";\n",
       "\n",
       "            /* Free the memory for the previous frames */\n",
       "            if (fig.imageObj.src) {\n",
       "                (window.URL || window.webkitURL).revokeObjectURL(\n",
       "                    fig.imageObj.src);\n",
       "            }\n",
       "\n",
       "            fig.imageObj.src = (window.URL || window.webkitURL).createObjectURL(\n",
       "                evt.data);\n",
       "            fig.updated_canvas_event();\n",
       "            fig.waiting = false;\n",
       "            return;\n",
       "        }\n",
       "        else if (typeof evt.data === 'string' && evt.data.slice(0, 21) == \"data:image/png;base64\") {\n",
       "            fig.imageObj.src = evt.data;\n",
       "            fig.updated_canvas_event();\n",
       "            fig.waiting = false;\n",
       "            return;\n",
       "        }\n",
       "\n",
       "        var msg = JSON.parse(evt.data);\n",
       "        var msg_type = msg['type'];\n",
       "\n",
       "        // Call the  \"handle_{type}\" callback, which takes\n",
       "        // the figure and JSON message as its only arguments.\n",
       "        try {\n",
       "            var callback = fig[\"handle_\" + msg_type];\n",
       "        } catch (e) {\n",
       "            console.log(\"No handler for the '\" + msg_type + \"' message type: \", msg);\n",
       "            return;\n",
       "        }\n",
       "\n",
       "        if (callback) {\n",
       "            try {\n",
       "                // console.log(\"Handling '\" + msg_type + \"' message: \", msg);\n",
       "                callback(fig, msg);\n",
       "            } catch (e) {\n",
       "                console.log(\"Exception inside the 'handler_\" + msg_type + \"' callback:\", e, e.stack, msg);\n",
       "            }\n",
       "        }\n",
       "    };\n",
       "}\n",
       "\n",
       "// from http://stackoverflow.com/questions/1114465/getting-mouse-location-in-canvas\n",
       "mpl.findpos = function(e) {\n",
       "    //this section is from http://www.quirksmode.org/js/events_properties.html\n",
       "    var targ;\n",
       "    if (!e)\n",
       "        e = window.event;\n",
       "    if (e.target)\n",
       "        targ = e.target;\n",
       "    else if (e.srcElement)\n",
       "        targ = e.srcElement;\n",
       "    if (targ.nodeType == 3) // defeat Safari bug\n",
       "        targ = targ.parentNode;\n",
       "\n",
       "    // jQuery normalizes the pageX and pageY\n",
       "    // pageX,Y are the mouse positions relative to the document\n",
       "    // offset() returns the position of the element relative to the document\n",
       "    var x = e.pageX - $(targ).offset().left;\n",
       "    var y = e.pageY - $(targ).offset().top;\n",
       "\n",
       "    return {\"x\": x, \"y\": y};\n",
       "};\n",
       "\n",
       "/*\n",
       " * return a copy of an object with only non-object keys\n",
       " * we need this to avoid circular references\n",
       " * http://stackoverflow.com/a/24161582/3208463\n",
       " */\n",
       "function simpleKeys (original) {\n",
       "  return Object.keys(original).reduce(function (obj, key) {\n",
       "    if (typeof original[key] !== 'object')\n",
       "        obj[key] = original[key]\n",
       "    return obj;\n",
       "  }, {});\n",
       "}\n",
       "\n",
       "mpl.figure.prototype.mouse_event = function(event, name) {\n",
       "    var canvas_pos = mpl.findpos(event)\n",
       "\n",
       "    if (name === 'button_press')\n",
       "    {\n",
       "        this.canvas.focus();\n",
       "        this.canvas_div.focus();\n",
       "    }\n",
       "\n",
       "    var x = canvas_pos.x * mpl.ratio;\n",
       "    var y = canvas_pos.y * mpl.ratio;\n",
       "\n",
       "    this.send_message(name, {x: x, y: y, button: event.button,\n",
       "                             step: event.step,\n",
       "                             guiEvent: simpleKeys(event)});\n",
       "\n",
       "    /* This prevents the web browser from automatically changing to\n",
       "     * the text insertion cursor when the button is pressed.  We want\n",
       "     * to control all of the cursor setting manually through the\n",
       "     * 'cursor' event from matplotlib */\n",
       "    event.preventDefault();\n",
       "    return false;\n",
       "}\n",
       "\n",
       "mpl.figure.prototype._key_event_extra = function(event, name) {\n",
       "    // Handle any extra behaviour associated with a key event\n",
       "}\n",
       "\n",
       "mpl.figure.prototype.key_event = function(event, name) {\n",
       "\n",
       "    // Prevent repeat events\n",
       "    if (name == 'key_press')\n",
       "    {\n",
       "        if (event.which === this._key)\n",
       "            return;\n",
       "        else\n",
       "            this._key = event.which;\n",
       "    }\n",
       "    if (name == 'key_release')\n",
       "        this._key = null;\n",
       "\n",
       "    var value = '';\n",
       "    if (event.ctrlKey && event.which != 17)\n",
       "        value += \"ctrl+\";\n",
       "    if (event.altKey && event.which != 18)\n",
       "        value += \"alt+\";\n",
       "    if (event.shiftKey && event.which != 16)\n",
       "        value += \"shift+\";\n",
       "\n",
       "    value += 'k';\n",
       "    value += event.which.toString();\n",
       "\n",
       "    this._key_event_extra(event, name);\n",
       "\n",
       "    this.send_message(name, {key: value,\n",
       "                             guiEvent: simpleKeys(event)});\n",
       "    return false;\n",
       "}\n",
       "\n",
       "mpl.figure.prototype.toolbar_button_onclick = function(name) {\n",
       "    if (name == 'download') {\n",
       "        this.handle_save(this, null);\n",
       "    } else {\n",
       "        this.send_message(\"toolbar_button\", {name: name});\n",
       "    }\n",
       "};\n",
       "\n",
       "mpl.figure.prototype.toolbar_button_onmouseover = function(tooltip) {\n",
       "    this.message.textContent = tooltip;\n",
       "};\n",
       "mpl.toolbar_items = [[\"Home\", \"Reset original view\", \"fa fa-home icon-home\", \"home\"], [\"Back\", \"Back to previous view\", \"fa fa-arrow-left icon-arrow-left\", \"back\"], [\"Forward\", \"Forward to next view\", \"fa fa-arrow-right icon-arrow-right\", \"forward\"], [\"\", \"\", \"\", \"\"], [\"Pan\", \"Pan axes with left mouse, zoom with right\", \"fa fa-arrows icon-move\", \"pan\"], [\"Zoom\", \"Zoom to rectangle\", \"fa fa-square-o icon-check-empty\", \"zoom\"], [\"\", \"\", \"\", \"\"], [\"Download\", \"Download plot\", \"fa fa-floppy-o icon-save\", \"download\"]];\n",
       "\n",
       "mpl.extensions = [\"eps\", \"jpeg\", \"pdf\", \"png\", \"ps\", \"raw\", \"svg\", \"tif\"];\n",
       "\n",
       "mpl.default_extension = \"png\";var comm_websocket_adapter = function(comm) {\n",
       "    // Create a \"websocket\"-like object which calls the given IPython comm\n",
       "    // object with the appropriate methods. Currently this is a non binary\n",
       "    // socket, so there is still some room for performance tuning.\n",
       "    var ws = {};\n",
       "\n",
       "    ws.close = function() {\n",
       "        comm.close()\n",
       "    };\n",
       "    ws.send = function(m) {\n",
       "        //console.log('sending', m);\n",
       "        comm.send(m);\n",
       "    };\n",
       "    // Register the callback with on_msg.\n",
       "    comm.on_msg(function(msg) {\n",
       "        //console.log('receiving', msg['content']['data'], msg);\n",
       "        // Pass the mpl event to the overridden (by mpl) onmessage function.\n",
       "        ws.onmessage(msg['content']['data'])\n",
       "    });\n",
       "    return ws;\n",
       "}\n",
       "\n",
       "mpl.mpl_figure_comm = function(comm, msg) {\n",
       "    // This is the function which gets called when the mpl process\n",
       "    // starts-up an IPython Comm through the \"matplotlib\" channel.\n",
       "\n",
       "    var id = msg.content.data.id;\n",
       "    // Get hold of the div created by the display call when the Comm\n",
       "    // socket was opened in Python.\n",
       "    var element = $(\"#\" + id);\n",
       "    var ws_proxy = comm_websocket_adapter(comm)\n",
       "\n",
       "    function ondownload(figure, format) {\n",
       "        window.open(figure.imageObj.src);\n",
       "    }\n",
       "\n",
       "    var fig = new mpl.figure(id, ws_proxy,\n",
       "                           ondownload,\n",
       "                           element.get(0));\n",
       "\n",
       "    // Call onopen now - mpl needs it, as it is assuming we've passed it a real\n",
       "    // web socket which is closed, not our websocket->open comm proxy.\n",
       "    ws_proxy.onopen();\n",
       "\n",
       "    fig.parent_element = element.get(0);\n",
       "    fig.cell_info = mpl.find_output_cell(\"<div id='\" + id + \"'></div>\");\n",
       "    if (!fig.cell_info) {\n",
       "        console.error(\"Failed to find cell for figure\", id, fig);\n",
       "        return;\n",
       "    }\n",
       "\n",
       "    var output_index = fig.cell_info[2]\n",
       "    var cell = fig.cell_info[0];\n",
       "\n",
       "};\n",
       "\n",
       "mpl.figure.prototype.handle_close = function(fig, msg) {\n",
       "    var width = fig.canvas.width/mpl.ratio\n",
       "    fig.root.unbind('remove')\n",
       "\n",
       "    // Update the output cell to use the data from the current canvas.\n",
       "    fig.push_to_output();\n",
       "    var dataURL = fig.canvas.toDataURL();\n",
       "    // Re-enable the keyboard manager in IPython - without this line, in FF,\n",
       "    // the notebook keyboard shortcuts fail.\n",
       "    IPython.keyboard_manager.enable()\n",
       "    $(fig.parent_element).html('<img src=\"' + dataURL + '\" width=\"' + width + '\">');\n",
       "    fig.close_ws(fig, msg);\n",
       "}\n",
       "\n",
       "mpl.figure.prototype.close_ws = function(fig, msg){\n",
       "    fig.send_message('closing', msg);\n",
       "    // fig.ws.close()\n",
       "}\n",
       "\n",
       "mpl.figure.prototype.push_to_output = function(remove_interactive) {\n",
       "    // Turn the data on the canvas into data in the output cell.\n",
       "    var width = this.canvas.width/mpl.ratio\n",
       "    var dataURL = this.canvas.toDataURL();\n",
       "    this.cell_info[1]['text/html'] = '<img src=\"' + dataURL + '\" width=\"' + width + '\">';\n",
       "}\n",
       "\n",
       "mpl.figure.prototype.updated_canvas_event = function() {\n",
       "    // Tell IPython that the notebook contents must change.\n",
       "    IPython.notebook.set_dirty(true);\n",
       "    this.send_message(\"ack\", {});\n",
       "    var fig = this;\n",
       "    // Wait a second, then push the new image to the DOM so\n",
       "    // that it is saved nicely (might be nice to debounce this).\n",
       "    setTimeout(function () { fig.push_to_output() }, 1000);\n",
       "}\n",
       "\n",
       "mpl.figure.prototype._init_toolbar = function() {\n",
       "    var fig = this;\n",
       "\n",
       "    var nav_element = $('<div/>');\n",
       "    nav_element.attr('style', 'width: 100%');\n",
       "    this.root.append(nav_element);\n",
       "\n",
       "    // Define a callback function for later on.\n",
       "    function toolbar_event(event) {\n",
       "        return fig.toolbar_button_onclick(event['data']);\n",
       "    }\n",
       "    function toolbar_mouse_event(event) {\n",
       "        return fig.toolbar_button_onmouseover(event['data']);\n",
       "    }\n",
       "\n",
       "    for(var toolbar_ind in mpl.toolbar_items){\n",
       "        var name = mpl.toolbar_items[toolbar_ind][0];\n",
       "        var tooltip = mpl.toolbar_items[toolbar_ind][1];\n",
       "        var image = mpl.toolbar_items[toolbar_ind][2];\n",
       "        var method_name = mpl.toolbar_items[toolbar_ind][3];\n",
       "\n",
       "        if (!name) { continue; };\n",
       "\n",
       "        var button = $('<button class=\"btn btn-default\" href=\"#\" title=\"' + name + '\"><i class=\"fa ' + image + ' fa-lg\"></i></button>');\n",
       "        button.click(method_name, toolbar_event);\n",
       "        button.mouseover(tooltip, toolbar_mouse_event);\n",
       "        nav_element.append(button);\n",
       "    }\n",
       "\n",
       "    // Add the status bar.\n",
       "    var status_bar = $('<span class=\"mpl-message\" style=\"text-align:right; float: right;\"/>');\n",
       "    nav_element.append(status_bar);\n",
       "    this.message = status_bar[0];\n",
       "\n",
       "    // Add the close button to the window.\n",
       "    var buttongrp = $('<div class=\"btn-group inline pull-right\"></div>');\n",
       "    var button = $('<button class=\"btn btn-mini btn-primary\" href=\"#\" title=\"Stop Interaction\"><i class=\"fa fa-power-off icon-remove icon-large\"></i></button>');\n",
       "    button.click(function (evt) { fig.handle_close(fig, {}); } );\n",
       "    button.mouseover('Stop Interaction', toolbar_mouse_event);\n",
       "    buttongrp.append(button);\n",
       "    var titlebar = this.root.find($('.ui-dialog-titlebar'));\n",
       "    titlebar.prepend(buttongrp);\n",
       "}\n",
       "\n",
       "mpl.figure.prototype._root_extra_style = function(el){\n",
       "    var fig = this\n",
       "    el.on(\"remove\", function(){\n",
       "\tfig.close_ws(fig, {});\n",
       "    });\n",
       "}\n",
       "\n",
       "mpl.figure.prototype._canvas_extra_style = function(el){\n",
       "    // this is important to make the div 'focusable\n",
       "    el.attr('tabindex', 0)\n",
       "    // reach out to IPython and tell the keyboard manager to turn it's self\n",
       "    // off when our div gets focus\n",
       "\n",
       "    // location in version 3\n",
       "    if (IPython.notebook.keyboard_manager) {\n",
       "        IPython.notebook.keyboard_manager.register_events(el);\n",
       "    }\n",
       "    else {\n",
       "        // location in version 2\n",
       "        IPython.keyboard_manager.register_events(el);\n",
       "    }\n",
       "\n",
       "}\n",
       "\n",
       "mpl.figure.prototype._key_event_extra = function(event, name) {\n",
       "    var manager = IPython.notebook.keyboard_manager;\n",
       "    if (!manager)\n",
       "        manager = IPython.keyboard_manager;\n",
       "\n",
       "    // Check for shift+enter\n",
       "    if (event.shiftKey && event.which == 13) {\n",
       "        this.canvas_div.blur();\n",
       "        // select the cell after this one\n",
       "        var index = IPython.notebook.find_cell_index(this.cell_info[0]);\n",
       "        IPython.notebook.select(index + 1);\n",
       "    }\n",
       "}\n",
       "\n",
       "mpl.figure.prototype.handle_save = function(fig, msg) {\n",
       "    fig.ondownload(fig, null);\n",
       "}\n",
       "\n",
       "\n",
       "mpl.find_output_cell = function(html_output) {\n",
       "    // Return the cell and output element which can be found *uniquely* in the notebook.\n",
       "    // Note - this is a bit hacky, but it is done because the \"notebook_saving.Notebook\"\n",
       "    // IPython event is triggered only after the cells have been serialised, which for\n",
       "    // our purposes (turning an active figure into a static one), is too late.\n",
       "    var cells = IPython.notebook.get_cells();\n",
       "    var ncells = cells.length;\n",
       "    for (var i=0; i<ncells; i++) {\n",
       "        var cell = cells[i];\n",
       "        if (cell.cell_type === 'code'){\n",
       "            for (var j=0; j<cell.output_area.outputs.length; j++) {\n",
       "                var data = cell.output_area.outputs[j];\n",
       "                if (data.data) {\n",
       "                    // IPython >= 3 moved mimebundle to data attribute of output\n",
       "                    data = data.data;\n",
       "                }\n",
       "                if (data['text/html'] == html_output) {\n",
       "                    return [cell, data, j];\n",
       "                }\n",
       "            }\n",
       "        }\n",
       "    }\n",
       "}\n",
       "\n",
       "// Register the function which deals with the matplotlib target/channel.\n",
       "// The kernel may be null if the page has been refreshed.\n",
       "if (IPython.notebook.kernel != null) {\n",
       "    IPython.notebook.kernel.comm_manager.register_target('matplotlib', mpl.mpl_figure_comm);\n",
       "}\n"
      ],
      "text/plain": [
       "<IPython.core.display.Javascript object>"
      ]
     },
     "metadata": {},
     "output_type": "display_data"
    },
    {
     "data": {
      "text/html": [
       "<img src=\"data:image/png;base64,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\" width=\"639.9999861283738\">"
      ],
      "text/plain": [
       "<IPython.core.display.HTML object>"
      ]
     },
     "metadata": {},
     "output_type": "display_data"
    },
    {
     "data": {
      "text/plain": [
       "Text(0, 0.5, 'Number of cells')"
      ]
     },
     "execution_count": 34,
     "metadata": {},
     "output_type": "execute_result"
    }
   ],
   "source": [
    "plt.figure()\n",
    "plt.bar([0,1,2],[np.sum(complete_results[1]==1),np.sum(complete_results[1]==0),np.sum(np.isnan(complete_results[1]))]);\n",
    "plt.xticks([0,1,2,],[\"0\",\"1\",\"NaN\"]);\n",
    "plt.xlabel(\"Labels\")\n",
    "plt.ylabel(\"Number of cells\")"
   ]
  },
  {
   "cell_type": "code",
   "execution_count": null,
   "metadata": {},
   "outputs": [],
   "source": []
  }
 ],
 "metadata": {
  "kernelspec": {
   "display_name": "CondaEnv37",
   "language": "python",
   "name": "condaenv37"
  },
  "language_info": {
   "codemirror_mode": {
    "name": "ipython",
    "version": 3
   },
   "file_extension": ".py",
   "mimetype": "text/x-python",
   "name": "python",
   "nbconvert_exporter": "python",
   "pygments_lexer": "ipython3",
   "version": "3.7.7"
  }
 },
 "nbformat": 4,
 "nbformat_minor": 4
}
