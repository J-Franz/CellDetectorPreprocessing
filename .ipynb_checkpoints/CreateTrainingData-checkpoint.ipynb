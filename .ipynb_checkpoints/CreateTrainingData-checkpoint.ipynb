{
 "cells": [
  {
   "cell_type": "code",
   "execution_count": 1,
   "metadata": {},
   "outputs": [],
   "source": [
    "import numpy as np\n",
    "import matplotlib.pyplot as plt\n",
    "import omero\n",
    "from omero.gateway import BlitzGateway\n",
    "import time\n",
    "from skimage import filters\n",
    "import threading\n",
    "\n",
    "from tqdm import tqdm\n",
    "from ipywidgets import Password, Text\n",
    "from multi_label_pigeon import annotate\n",
    "from skimage.exposure import rescale_intensity\n"
   ]
  },
  {
   "cell_type": "markdown",
   "metadata": {},
   "source": [
    "# Set up connection to OMERO"
   ]
  },
  {
   "cell_type": "code",
   "execution_count": 2,
   "metadata": {},
   "outputs": [],
   "source": [
    "global user\n",
    "global pw\n",
    "user = Text(description='User:', placeholder='Your Omero Login')\n",
    "\n",
    "pw = Password(description='Password:', placeholder='Enter password for login')"
   ]
  },
  {
   "cell_type": "code",
   "execution_count": 3,
   "metadata": {
    "scrolled": true
   },
   "outputs": [
    {
     "data": {
      "application/vnd.jupyter.widget-view+json": {
       "model_id": "ebb785185a3b41938fefbde07772a917",
       "version_major": 2,
       "version_minor": 0
      },
      "text/plain": [
       "Text(value='', description='User:', placeholder='Your Omero Login')"
      ]
     },
     "metadata": {},
     "output_type": "display_data"
    }
   ],
   "source": [
    "user"
   ]
  },
  {
   "cell_type": "code",
   "execution_count": 4,
   "metadata": {},
   "outputs": [
    {
     "data": {
      "application/vnd.jupyter.widget-view+json": {
       "model_id": "bbd2191056d8417fae608ba758cf2753",
       "version_major": 2,
       "version_minor": 0
      },
      "text/plain": [
       "Password(description='Password:', placeholder='Enter password for login')"
      ]
     },
     "metadata": {},
     "output_type": "display_data"
    }
   ],
   "source": [
    "pw"
   ]
  },
  {
   "cell_type": "code",
   "execution_count": 7,
   "metadata": {},
   "outputs": [],
   "source": [
    "def refresh_omero_session(conn):\n",
    "    if conn==None:\n",
    "        USERNAME = user.value\n",
    "        PASSWORD = pw.value\n",
    "        HOST = \"134.76.18.202\"\n",
    "        PORT=   4064\n",
    "\n",
    "        c = omero.client(host=HOST, port=4064)\n",
    "        session = c.createSession(USERNAME,PASSWORD)\n",
    "\n",
    "        print(\"Connected.\")\n",
    "        conn = BlitzGateway(USERNAME, PASSWORD,host=HOST, port=PORT)\n",
    "    else:\n",
    "        #if conn.isConnected():\n",
    "            #conn.keep_alive()\n",
    "        \n",
    "        USERNAME = user.value\n",
    "        PASSWORD = pw.value\n",
    "        HOST = \"134.76.18.202\"\n",
    "        PORT=   4064\n",
    "\n",
    "        c = omero.client(host=HOST, port=4064)\n",
    "        session = c.createSession(USERNAME,PASSWORD)\n",
    "\n",
    "        print(\"Connected.\")\n",
    "        conn = BlitzGateway(USERNAME, PASSWORD,host=HOST, port=PORT)\n",
    "    conn.connect()\n",
    "    print(conn.isConnected())\n",
    "    return conn\n"
   ]
  },
  {
   "cell_type": "code",
   "execution_count": 8,
   "metadata": {},
   "outputs": [
    {
     "name": "stdout",
     "output_type": "stream",
     "text": [
      "Connected.\n",
      "True\n"
     ]
    }
   ],
   "source": [
    "try: conn\n",
    "except NameError: conn = None\n",
    "conn = refresh_omero_session(conn)\n"
   ]
  },
  {
   "cell_type": "markdown",
   "metadata": {},
   "source": [
    "# Monte Carlo Sampling of staining intensity"
   ]
  },
  {
   "cell_type": "code",
   "execution_count": 9,
   "metadata": {},
   "outputs": [
    {
     "name": "stdout",
     "output_type": "stream",
     "text": [
      "Switched Group to Group of image:  203\n"
     ]
    },
    {
     "data": {
      "text/plain": [
       "True"
      ]
     },
     "execution_count": 9,
     "metadata": {},
     "output_type": "execute_result"
    }
   ],
   "source": [
    "imageId = 3062\n",
    "conn.SERVICE_OPTS.setOmeroGroup('-1')\n",
    "image = conn.getObject(\"Image\", imageId)\n",
    "group_id = image.getDetails().getGroup().getId()\n",
    "print(\"Switched Group to Group of image: \", group_id)\n",
    "conn.setGroupForSession(group_id)"
   ]
  },
  {
   "cell_type": "code",
   "execution_count": 10,
   "metadata": {},
   "outputs": [
    {
     "data": {
      "text/plain": [
       "<_PixelsWrapper id=3062>"
      ]
     },
     "execution_count": 10,
     "metadata": {},
     "output_type": "execute_result"
    }
   ],
   "source": [
    "pixels = image.getPrimaryPixels()\n",
    "size_x = image.getSizeX()\n",
    "size_y = image.getSizeY()\n",
    "global input_range\n",
    "input_range= image.getPixelRange()\n",
    "pixels"
   ]
  },
  {
   "cell_type": "markdown",
   "metadata": {},
   "source": [
    "define fluorescence channel of interest"
   ]
  },
  {
   "cell_type": "code",
   "execution_count": null,
   "metadata": {},
   "outputs": [],
   "source": []
  },
  {
   "cell_type": "code",
   "execution_count": 11,
   "metadata": {},
   "outputs": [],
   "source": [
    "channel_of_interest = 1"
   ]
  },
  {
   "cell_type": "code",
   "execution_count": 12,
   "metadata": {},
   "outputs": [],
   "source": [
    "size_crop = 1000\n",
    "rand_x = np.random.randint(size_crop,size_x-size_crop,5)\n",
    "rand_y = np.random.randint(size_crop,size_y-size_crop,5)"
   ]
  },
  {
   "cell_type": "code",
   "execution_count": 13,
   "metadata": {},
   "outputs": [
    {
     "name": "stderr",
     "output_type": "stream",
     "text": [
      "100%|██████████| 5/5 [00:05<00:00,  1.14s/it]\n"
     ]
    }
   ],
   "source": [
    "pixels_list = []\n",
    "for id_ in tqdm(np.arange(len(rand_x))):\n",
    "    pixels_list.append(pixels.getTile(0,theC=channel_of_interest,theT=0,tile=[rand_x[id_],rand_y[id_],size_crop,size_crop]))\n",
    "    \n",
    "pixels_list = np.squeeze(np.array(pixels_list))"
   ]
  },
  {
   "cell_type": "code",
   "execution_count": 14,
   "metadata": {},
   "outputs": [],
   "source": [
    "global th_multi_otsu\n",
    "th_multi_otsu= filters.threshold_multiotsu(pixels_list.flatten())"
   ]
  },
  {
   "cell_type": "code",
   "execution_count": 15,
   "metadata": {},
   "outputs": [
    {
     "data": {
      "text/plain": [
       "Text(0, 0.5, 'CDF - density')"
      ]
     },
     "execution_count": 15,
     "metadata": {},
     "output_type": "execute_result"
    },
    {
     "data": {
      "image/png": "[encoded data removed]",
      "text/plain": [
       "<Figure size 432x288 with 1 Axes>"
      ]
     },
     "metadata": {
      "needs_background": "light"
     },
     "output_type": "display_data"
    }
   ],
   "source": [
    "binspace = np.linspace(0,10000,100)\n",
    "plt.hist(pixels_list.flatten(),cumulative=True,density=True,histtype='step', bins = binspace)\n",
    "plt.vlines(th_multi_otsu[1],0,1)\n",
    "plt.semilogx()\n",
    "plt.semilogy()\n",
    "plt.xlabel(\"Intensity of pixels\")\n",
    "plt.ylabel(\"CDF - density\")"
   ]
  },
  {
   "cell_type": "markdown",
   "metadata": {},
   "source": [
    "# Load centroids of nuclei"
   ]
  },
  {
   "cell_type": "code",
   "execution_count": 52,
   "metadata": {},
   "outputs": [
    {
     "name": "stderr",
     "output_type": "stream",
     "text": [
      "100%|██████████| 96021/96021 [00:00<00:00, 737606.50it/s]\n"
     ]
    }
   ],
   "source": [
    "cods = np.loadtxt(\"CellposeAllNucleiCentroids.txt\",delimiter=\",\")\n",
    "x = []\n",
    "y= []\n",
    "mean = []\n",
    "median = []\n",
    "var = []\n",
    "skew = []\n",
    "for p in tqdm(cods):\n",
    "    x.append(p[0])\n",
    "    y.append(p[1])\n",
    "    mean.append(p[2])\n",
    "    median.append(p[3])\n",
    "    var.append(p[4])\n",
    "    skew.append(p[5])\n",
    "x = np.array(x)\n",
    "y = np.array(y)\n",
    "mean = np.array(mean)\n",
    "median = np.array(median)\n",
    "var = np.array(var)\n",
    "skew = np.array(skew)"
   ]
  },
  {
   "cell_type": "code",
   "execution_count": 53,
   "metadata": {},
   "outputs": [],
   "source": [
    "width=101\n",
    "height=101\n",
    "half_width=int(width/2.)\n",
    "half_height=int(height/2.)\n",
    "c_max = 4"
   ]
  },
  {
   "cell_type": "code",
   "execution_count": 54,
   "metadata": {
    "scrolled": true
   },
   "outputs": [],
   "source": [
    "\n",
    "\n",
    "def show_cell(image):\n",
    "    %matplotlib notebook\n",
    "    log_dapi = np.log(image[:,:,0])\n",
    "    log_dapi[np.isinf(-log_dapi)] = 10**(-14) \n",
    "    dapi = rescale_intensity(log_dapi,out_range=(0, 1.))\n",
    "    fluorescence = rescale_intensity(image[:, :, 1], in_range=(0,10*th_multi_otsu[1]),out_range=(0, 1))\n",
    "    fluorescence_2 = rescale_intensity(image[:, :, 2], out_range=(0, 1))\n",
    "    dapi_rgb = np.dstack((np.zeros_like(dapi), np.zeros_like(dapi), dapi))\n",
    "    fluorescence_rgb = np.dstack((np.zeros_like(dapi), fluorescence, np.zeros_like(dapi)))\n",
    "    fluorescence_2_rgb = np.dstack((fluorescence_2, np.zeros_like(dapi), np.zeros_like(dapi)))\n",
    "    dapi_fluorescence_rgb = np.dstack((np.zeros_like(dapi), fluorescence, dapi))\n",
    "    fig,(ax) = plt.subplots(2,2)\n",
    "    ax[0][0].imshow(dapi_rgb)#, alpha = 0.5)\n",
    "    ax[0][0].plot(50,50,'wx')\n",
    "    ax[0][1].imshow(fluorescence_rgb)\n",
    "    #,clim=[0,2000])#,alpha = 0.5)\n",
    "    ax[0][1].plot(50,50,'wx')\n",
    "    ax[1][0].imshow(dapi_fluorescence_rgb)\n",
    "    ax[1][1].imshow(fluorescence_2_rgb)\n",
    "    print(\"x\")\n",
    "    "
   ]
  },
  {
   "cell_type": "markdown",
   "metadata": {},
   "source": [
    "# Select subset for training"
   ]
  },
  {
   "cell_type": "code",
   "execution_count": 70,
   "metadata": {},
   "outputs": [
    {
     "name": "stdout",
     "output_type": "stream",
     "text": [
      "Your precondition requires you to label:88 cells.\n"
     ]
    },
    {
     "name": "stderr",
     "output_type": "stream",
     "text": [
      "/share/Work/Coding/CondaEnv37/lib/python3.7/site-packages/ipykernel_launcher.py:3: RuntimeWarning: invalid value encountered in less\n",
      "  This is separate from the ipykernel package so we can avoid doing imports until\n",
      "/share/Work/Coding/CondaEnv37/lib/python3.7/site-packages/ipykernel_launcher.py:3: RuntimeWarning: invalid value encountered in greater\n",
      "  This is separate from the ipykernel package so we can avoid doing imports until\n"
     ]
    }
   ],
   "source": [
    "# parameters you can vary\n",
    "batch_size=50\n",
    "condition = (median<0.5*mean) * (mean>th_multi_otsu[1])\n",
    "print(\"Your precondition requires you to label:\" + str(np.sum(condition)) + \" cells.\")"
   ]
  },
  {
   "cell_type": "code",
   "execution_count": 71,
   "metadata": {},
   "outputs": [],
   "source": [
    "# select all with mean above \n",
    "global precondition\n",
    "list_images=np.arange(len(x))\n",
    "precondition = list_images[condition]\n",
    "complete_results = np.ones((2,len(precondition)))*np.nan\n",
    "n_runs = int(len(precondition)/batch_size)+1"
   ]
  },
  {
   "cell_type": "code",
   "execution_count": 72,
   "metadata": {},
   "outputs": [],
   "source": [
    "def load_data(run_):\n",
    "    width=101\n",
    "    height=101\n",
    "    half_width=int(width/2.)\n",
    "    half_height=int(height/2.)\n",
    "    c_max = 4\n",
    "    list_batch_images= []\n",
    "    for id_ in tqdm(range(batch_size)):\n",
    "        image = np.zeros((width,height,c_max))\n",
    "        image_id = precondition[id_+run_*batch_size]\n",
    "        for c in range(0,c_max):\n",
    "            image[:,:,c]=pixels.getTile(0,theC=c,theT=0,tile=[x[image_id]-half_width,y[image_id]-half_height,width,height])\n",
    "        list_batch_images.append(image)\n",
    "    return list_batch_images"
   ]
  },
  {
   "cell_type": "code",
   "execution_count": 75,
   "metadata": {},
   "outputs": [
    {
     "name": "stdout",
     "output_type": "stream",
     "text": [
      "You have to process run_ 0 till 1.\n",
      "You just started.\n",
      "Your current run number: 1\n"
     ]
    }
   ],
   "source": [
    "print(\"You have to process run_ 0 till \"+ str(n_runs-1)+\".\")\n",
    "try:\n",
    "    for label_id, label_ in enumerate(labeled_data):\n",
    "        complete_results[0][label_id+run_*batch_size] = precondition[label_id+run_*batch_size]\n",
    "        complete_results[1][label_id+run_*batch_size] = label_[1]\n",
    "    print(\"So far you labeled: \"+ str(np.sum(np.isnan(complete_results[0])!=1)))\n",
    "except:\n",
    "    print(\"You just started.\")\n",
    "run_ = 1\n",
    "print(\"Your current run number: \" + str(run_))"
   ]
  },
  {
   "cell_type": "code",
   "execution_count": 76,
   "metadata": {
    "scrolled": false
   },
   "outputs": [
    {
     "name": "stderr",
     "output_type": "stream",
     "text": [
      " 76%|███████▌  | 38/50 [00:27<00:08,  1.40it/s]\n"
     ]
    },
    {
     "ename": "IndexError",
     "evalue": "index 88 is out of bounds for axis 0 with size 88",
     "output_type": "error",
     "traceback": [
      "\u001b[0;31m---------------------------------------------------------------------------\u001b[0m",
      "\u001b[0;31mIndexError\u001b[0m                                Traceback (most recent call last)",
      "\u001b[0;32m<ipython-input-76-58f27aac0962>\u001b[0m in \u001b[0;36m<module>\u001b[0;34m\u001b[0m\n\u001b[0;32m----> 1\u001b[0;31m \u001b[0mlist_batch_images\u001b[0m \u001b[0;34m=\u001b[0m \u001b[0mload_data\u001b[0m\u001b[0;34m(\u001b[0m\u001b[0mrun_\u001b[0m\u001b[0;34m)\u001b[0m\u001b[0;34m\u001b[0m\u001b[0;34m\u001b[0m\u001b[0m\n\u001b[0m\u001b[1;32m      2\u001b[0m \u001b[0mlabeled_data\u001b[0m \u001b[0;34m=\u001b[0m \u001b[0mannotate\u001b[0m\u001b[0;34m(\u001b[0m\u001b[0mlist_batch_images\u001b[0m\u001b[0;34m,\u001b[0m\u001b[0;34m[\u001b[0m\u001b[0;34m\"0\"\u001b[0m\u001b[0;34m,\u001b[0m\u001b[0;34m\"1\"\u001b[0m\u001b[0;34m]\u001b[0m\u001b[0;34m,\u001b[0m\u001b[0mdisplay_fn\u001b[0m\u001b[0;34m=\u001b[0m\u001b[0;32mlambda\u001b[0m \u001b[0mimage\u001b[0m\u001b[0;34m:\u001b[0m \u001b[0mshow_cell\u001b[0m\u001b[0;34m(\u001b[0m\u001b[0mimage\u001b[0m\u001b[0;34m)\u001b[0m\u001b[0;34m)\u001b[0m\u001b[0;34m\u001b[0m\u001b[0;34m\u001b[0m\u001b[0m\n",
      "\u001b[0;32m<ipython-input-72-559cce41915c>\u001b[0m in \u001b[0;36mload_data\u001b[0;34m(run_)\u001b[0m\n\u001b[1;32m      8\u001b[0m     \u001b[0;32mfor\u001b[0m \u001b[0mid_\u001b[0m \u001b[0;32min\u001b[0m \u001b[0mtqdm\u001b[0m\u001b[0;34m(\u001b[0m\u001b[0mrange\u001b[0m\u001b[0;34m(\u001b[0m\u001b[0mbatch_size\u001b[0m\u001b[0;34m)\u001b[0m\u001b[0;34m)\u001b[0m\u001b[0;34m:\u001b[0m\u001b[0;34m\u001b[0m\u001b[0;34m\u001b[0m\u001b[0m\n\u001b[1;32m      9\u001b[0m         \u001b[0mimage\u001b[0m \u001b[0;34m=\u001b[0m \u001b[0mnp\u001b[0m\u001b[0;34m.\u001b[0m\u001b[0mzeros\u001b[0m\u001b[0;34m(\u001b[0m\u001b[0;34m(\u001b[0m\u001b[0mwidth\u001b[0m\u001b[0;34m,\u001b[0m\u001b[0mheight\u001b[0m\u001b[0;34m,\u001b[0m\u001b[0mc_max\u001b[0m\u001b[0;34m)\u001b[0m\u001b[0;34m)\u001b[0m\u001b[0;34m\u001b[0m\u001b[0;34m\u001b[0m\u001b[0m\n\u001b[0;32m---> 10\u001b[0;31m         \u001b[0mimage_id\u001b[0m \u001b[0;34m=\u001b[0m \u001b[0mprecondition\u001b[0m\u001b[0;34m[\u001b[0m\u001b[0mid_\u001b[0m\u001b[0;34m+\u001b[0m\u001b[0mrun_\u001b[0m\u001b[0;34m*\u001b[0m\u001b[0mbatch_size\u001b[0m\u001b[0;34m]\u001b[0m\u001b[0;34m\u001b[0m\u001b[0;34m\u001b[0m\u001b[0m\n\u001b[0m\u001b[1;32m     11\u001b[0m         \u001b[0;32mfor\u001b[0m \u001b[0mc\u001b[0m \u001b[0;32min\u001b[0m \u001b[0mrange\u001b[0m\u001b[0;34m(\u001b[0m\u001b[0;36m0\u001b[0m\u001b[0;34m,\u001b[0m\u001b[0mc_max\u001b[0m\u001b[0;34m)\u001b[0m\u001b[0;34m:\u001b[0m\u001b[0;34m\u001b[0m\u001b[0;34m\u001b[0m\u001b[0m\n\u001b[1;32m     12\u001b[0m             \u001b[0mimage\u001b[0m\u001b[0;34m[\u001b[0m\u001b[0;34m:\u001b[0m\u001b[0;34m,\u001b[0m\u001b[0;34m:\u001b[0m\u001b[0;34m,\u001b[0m\u001b[0mc\u001b[0m\u001b[0;34m]\u001b[0m\u001b[0;34m=\u001b[0m\u001b[0mpixels\u001b[0m\u001b[0;34m.\u001b[0m\u001b[0mgetTile\u001b[0m\u001b[0;34m(\u001b[0m\u001b[0;36m0\u001b[0m\u001b[0;34m,\u001b[0m\u001b[0mtheC\u001b[0m\u001b[0;34m=\u001b[0m\u001b[0mc\u001b[0m\u001b[0;34m,\u001b[0m\u001b[0mtheT\u001b[0m\u001b[0;34m=\u001b[0m\u001b[0;36m0\u001b[0m\u001b[0;34m,\u001b[0m\u001b[0mtile\u001b[0m\u001b[0;34m=\u001b[0m\u001b[0;34m[\u001b[0m\u001b[0mx\u001b[0m\u001b[0;34m[\u001b[0m\u001b[0mimage_id\u001b[0m\u001b[0;34m]\u001b[0m\u001b[0;34m-\u001b[0m\u001b[0mhalf_width\u001b[0m\u001b[0;34m,\u001b[0m\u001b[0my\u001b[0m\u001b[0;34m[\u001b[0m\u001b[0mimage_id\u001b[0m\u001b[0;34m]\u001b[0m\u001b[0;34m-\u001b[0m\u001b[0mhalf_height\u001b[0m\u001b[0;34m,\u001b[0m\u001b[0mwidth\u001b[0m\u001b[0;34m,\u001b[0m\u001b[0mheight\u001b[0m\u001b[0;34m]\u001b[0m\u001b[0;34m)\u001b[0m\u001b[0;34m\u001b[0m\u001b[0;34m\u001b[0m\u001b[0m\n",
      "\u001b[0;31mIndexError\u001b[0m: index 88 is out of bounds for axis 0 with size 88"
     ]
    }
   ],
   "source": [
    "list_batch_images = load_data(run_)\n",
    "labeled_data = annotate(list_batch_images,[\"0\",\"1\"],display_fn=lambda image: show_cell(image))\n"
   ]
  },
  {
   "cell_type": "code",
   "execution_count": 69,
   "metadata": {},
   "outputs": [],
   "source": [
    "np.save(\"complete_results\",complete_results)"
   ]
  },
  {
   "cell_type": "code",
   "execution_count": null,
   "metadata": {},
   "outputs": [],
   "source": []
  }
 ],
 "metadata": {
  "kernelspec": {
   "display_name": "CondaEnv37",
   "language": "python",
   "name": "condaenv37"
  },
  "language_info": {
   "codemirror_mode": {
    "name": "ipython",
    "version": 3
   },
   "file_extension": ".py",
   "mimetype": "text/x-python",
   "name": "python",
   "nbconvert_exporter": "python",
   "pygments_lexer": "ipython3",
   "version": "3.7.7"
  }
 },
 "nbformat": 4,
 "nbformat_minor": 4
}
